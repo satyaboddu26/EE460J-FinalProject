{
  "nbformat": 4,
  "nbformat_minor": 0,
  "metadata": {
    "colab": {
      "name": "EE460J Final Project Workspace",
      "provenance": [],
      "collapsed_sections": [],
      "toc_visible": true
    },
    "kernelspec": {
      "display_name": "Python 3",
      "name": "python3"
    },
    "language_info": {
      "name": "python"
    }
  },
  "cells": [
    {
      "cell_type": "code",
      "metadata": {
        "colab": {
          "base_uri": "https://localhost:8080/"
        },
        "id": "dCOcih_hZYS6",
        "outputId": "2d5c29b3-a9f6-4146-9c28-eed02e5e5e68"
      },
      "source": [
        "import nltk\n",
        "nltk.download('punkt')\n",
        "nltk.download('stopwords')\n",
        "\n",
        "from nltk.corpus import stopwords\n",
        "from nltk.tokenize import TreebankWordTokenizer, sent_tokenize"
      ],
      "execution_count": null,
      "outputs": [
        {
          "output_type": "stream",
          "text": [
            "[nltk_data] Downloading package punkt to /root/nltk_data...\n",
            "[nltk_data]   Unzipping tokenizers/punkt.zip.\n",
            "[nltk_data] Downloading package stopwords to /root/nltk_data...\n",
            "[nltk_data]   Unzipping corpora/stopwords.zip.\n"
          ],
          "name": "stdout"
        }
      ]
    },
    {
      "cell_type": "code",
      "metadata": {
        "id": "-uYVkHmKawlg"
      },
      "source": [
        "import pandas as pd\n",
        "import numpy as np\n",
        "import seaborn as sns\n",
        "from sklearn.feature_extraction.text import CountVectorizer, TfidfVectorizer\n",
        "from sklearn.model_selection import train_test_split, GridSearchCV, KFold\n",
        "from sklearn.preprocessing import MinMaxScaler\n",
        "from sklearn.pipeline import Pipeline\n",
        "import matplotlib.pyplot as plt\n",
        "from xgboost import XGBClassifier, XGBRegressor\n",
        "from lightgbm import LGBMClassifier, LGBMRegressor\n",
        "from sklearn.naive_bayes import MultinomialNB, ComplementNB, GaussianNB, BernoulliNB\n",
        "from sklearn.linear_model import LogisticRegression, SGDClassifier\n",
        "from sklearn.svm import LinearSVC\n",
        "from sklearn import metrics\n",
        "from gensim import utils\n",
        "from gensim.models import Doc2Vec\n",
        "from gensim.models.doc2vec import TaggedDocument"
      ],
      "execution_count": null,
      "outputs": []
    },
    {
      "cell_type": "code",
      "metadata": {
        "colab": {
          "base_uri": "https://localhost:8080/",
          "height": 204
        },
        "id": "qmHKeGGvcpT5",
        "outputId": "45a5f324-fda0-4b8a-f05c-57c3fd2798e8"
      },
      "source": [
        "data = pd.read_csv('./train.csv')\n",
        "\n",
        "data.head()"
      ],
      "execution_count": null,
      "outputs": [
        {
          "output_type": "execute_result",
          "data": {
            "text/html": [
              "<div>\n",
              "<style scoped>\n",
              "    .dataframe tbody tr th:only-of-type {\n",
              "        vertical-align: middle;\n",
              "    }\n",
              "\n",
              "    .dataframe tbody tr th {\n",
              "        vertical-align: top;\n",
              "    }\n",
              "\n",
              "    .dataframe thead th {\n",
              "        text-align: right;\n",
              "    }\n",
              "</style>\n",
              "<table border=\"1\" class=\"dataframe\">\n",
              "  <thead>\n",
              "    <tr style=\"text-align: right;\">\n",
              "      <th></th>\n",
              "      <th>id</th>\n",
              "      <th>text</th>\n",
              "      <th>is_humor</th>\n",
              "      <th>humor_rating</th>\n",
              "      <th>humor_controversy</th>\n",
              "      <th>offense_rating</th>\n",
              "    </tr>\n",
              "  </thead>\n",
              "  <tbody>\n",
              "    <tr>\n",
              "      <th>0</th>\n",
              "      <td>1</td>\n",
              "      <td>TENNESSEE: We're the best state. Nobody even c...</td>\n",
              "      <td>1</td>\n",
              "      <td>2.42</td>\n",
              "      <td>1.0</td>\n",
              "      <td>0.2</td>\n",
              "    </tr>\n",
              "    <tr>\n",
              "      <th>1</th>\n",
              "      <td>2</td>\n",
              "      <td>A man inserted an advertisement in the classif...</td>\n",
              "      <td>1</td>\n",
              "      <td>2.50</td>\n",
              "      <td>1.0</td>\n",
              "      <td>1.1</td>\n",
              "    </tr>\n",
              "    <tr>\n",
              "      <th>2</th>\n",
              "      <td>3</td>\n",
              "      <td>How many men does it take to open a can of bee...</td>\n",
              "      <td>1</td>\n",
              "      <td>1.95</td>\n",
              "      <td>0.0</td>\n",
              "      <td>2.4</td>\n",
              "    </tr>\n",
              "    <tr>\n",
              "      <th>3</th>\n",
              "      <td>4</td>\n",
              "      <td>Told my mom I hit 1200 Twitter followers. She ...</td>\n",
              "      <td>1</td>\n",
              "      <td>2.11</td>\n",
              "      <td>1.0</td>\n",
              "      <td>0.0</td>\n",
              "    </tr>\n",
              "    <tr>\n",
              "      <th>4</th>\n",
              "      <td>5</td>\n",
              "      <td>Roses are dead. Love is fake. Weddings are bas...</td>\n",
              "      <td>1</td>\n",
              "      <td>2.78</td>\n",
              "      <td>0.0</td>\n",
              "      <td>0.1</td>\n",
              "    </tr>\n",
              "  </tbody>\n",
              "</table>\n",
              "</div>"
            ],
            "text/plain": [
              "   id  ... offense_rating\n",
              "0   1  ...            0.2\n",
              "1   2  ...            1.1\n",
              "2   3  ...            2.4\n",
              "3   4  ...            0.0\n",
              "4   5  ...            0.1\n",
              "\n",
              "[5 rows x 6 columns]"
            ]
          },
          "metadata": {
            "tags": []
          },
          "execution_count": 3
        }
      ]
    },
    {
      "cell_type": "code",
      "metadata": {
        "colab": {
          "base_uri": "https://localhost:8080/"
        },
        "id": "E0Z-ramMcu6N",
        "outputId": "206e132f-9b49-4c4e-eb2c-e4b8830c3d75"
      },
      "source": [
        "data.info()"
      ],
      "execution_count": null,
      "outputs": [
        {
          "output_type": "stream",
          "text": [
            "<class 'pandas.core.frame.DataFrame'>\n",
            "RangeIndex: 8000 entries, 0 to 7999\n",
            "Data columns (total 6 columns):\n",
            " #   Column             Non-Null Count  Dtype  \n",
            "---  ------             --------------  -----  \n",
            " 0   id                 8000 non-null   int64  \n",
            " 1   text               8000 non-null   object \n",
            " 2   is_humor           8000 non-null   int64  \n",
            " 3   humor_rating       4932 non-null   float64\n",
            " 4   humor_controversy  4932 non-null   float64\n",
            " 5   offense_rating     8000 non-null   float64\n",
            "dtypes: float64(3), int64(2), object(1)\n",
            "memory usage: 375.1+ KB\n"
          ],
          "name": "stdout"
        }
      ]
    },
    {
      "cell_type": "code",
      "metadata": {
        "colab": {
          "base_uri": "https://localhost:8080/",
          "height": 280
        },
        "id": "pe5zPE361B3j",
        "outputId": "76ad49e8-48f6-4b5d-a5ba-2736bc5d123e"
      },
      "source": [
        "sns.histplot(data['is_humor'])\n",
        "plt.show()"
      ],
      "execution_count": null,
      "outputs": [
        {
          "output_type": "display_data",
          "data": {
            "image/png": "[encoded data removed]",
            "text/plain": [
              "<Figure size 432x288 with 1 Axes>"
            ]
          },
          "metadata": {
            "tags": []
          }
        }
      ]
    },
    {
      "cell_type": "code",
      "metadata": {
        "colab": {
          "base_uri": "https://localhost:8080/",
          "height": 280
        },
        "id": "DwGeyKkM1JxM",
        "outputId": "cb41b034-e291-422f-daf8-8f73fb00a27b"
      },
      "source": [
        "sns.histplot(data['humor_rating'])\n",
        "plt.show()"
      ],
      "execution_count": null,
      "outputs": [
        {
          "output_type": "display_data",
          "data": {
            "image/png": "[encoded data removed]",
            "text/plain": [
              "<Figure size 432x288 with 1 Axes>"
            ]
          },
          "metadata": {
            "tags": []
          }
        }
      ]
    },
    {
      "cell_type": "code",
      "metadata": {
        "colab": {
          "base_uri": "https://localhost:8080/",
          "height": 280
        },
        "id": "1QU6Kx5S1N2d",
        "outputId": "6da826d5-8647-4807-f40f-50b6fd4c3117"
      },
      "source": [
        "sns.histplot(data['humor_controversy'])\n",
        "plt.show()"
      ],
      "execution_count": null,
      "outputs": [
        {
          "output_type": "display_data",
          "data": {
            "image/png": "[encoded data removed]",
            "text/plain": [
              "<Figure size 432x288 with 1 Axes>"
            ]
          },
          "metadata": {
            "tags": []
          }
        }
      ]
    },
    {
      "cell_type": "code",
      "metadata": {
        "colab": {
          "base_uri": "https://localhost:8080/",
          "height": 280
        },
        "id": "uK2keEGz1T4U",
        "outputId": "36847251-f50a-4663-b61b-125871d35747"
      },
      "source": [
        "sns.histplot(data['offense_rating'])\n",
        "plt.show()"
      ],
      "execution_count": null,
      "outputs": [
        {
          "output_type": "display_data",
          "data": {
            "image/png": "[encoded data removed]",
            "text/plain": [
              "<Figure size 432x288 with 1 Axes>"
            ]
          },
          "metadata": {
            "tags": []
          }
        }
      ]
    },
    {
      "cell_type": "code",
      "metadata": {
        "id": "Hcog3WTrhqdp"
      },
      "source": [
        "# https://www.programcreek.com/python/example/99488/nltk.tokenize.treebank.TreebankWordTokenizer\n",
        "\n",
        "_treebank_word_tokenizer = TreebankWordTokenizer()\n",
        "\n",
        "def word_tokenize(text, language='english'):\n",
        "    \"\"\"\n",
        "    Return a tokenized copy of *text*,\n",
        "    using NLTK's recommended word tokenizer\n",
        "    (currently an improved :class:`.TreebankWordTokenizer`\n",
        "    along with :class:`.PunktSentenceTokenizer`\n",
        "    for the specified language).\n",
        "\n",
        "    :param text: text to split into words\n",
        "    :type text: str\n",
        "    :param language: the model name in the Punkt corpus\n",
        "    :type language: str\n",
        "    \"\"\"\n",
        "    sentences = sent_tokenize(text, language)\n",
        "    return [\n",
        "        token for sent in sentences for token in _treebank_word_tokenizer.tokenize(sent)\n",
        "    ]\n",
        "\n",
        "# https://github.com/linanqiu/word2vec-sentiments/blob/master/word2vec-sentiment.ipynb\n",
        "\n",
        "stop_words = set(stopwords.words('english'))\n",
        "\n",
        "def preprocessForEmbdeddings(corpus):\n",
        "  sentences = []\n",
        "  for i, doc in enumerate(corpus):\n",
        "    doc = doc.lower()\n",
        "    words = word_tokenize(doc)\n",
        "    words = [word for word in words if not word in stop_words]\n",
        "    sent = [words, [i]]\n",
        "    sentences.append(sent)\n",
        "\n",
        "  return sentences\n",
        "\n",
        "def preprocessForTraining(corpus):\n",
        "  sentences = []\n",
        "  for doc in corpus:\n",
        "    doc = doc.lower()\n",
        "    words = word_tokenize(doc)\n",
        "    words = [word for word in words if not word in stop_words]\n",
        "    sentences.append(words)\n",
        "\n",
        "  return sentences"
      ],
      "execution_count": null,
      "outputs": []
    },
    {
      "cell_type": "markdown",
      "metadata": {
        "id": "vVOir4Otgrmm"
      },
      "source": [
        "# is_humor"
      ]
    },
    {
      "cell_type": "code",
      "metadata": {
        "colab": {
          "base_uri": "https://localhost:8080/"
        },
        "id": "Xkj7n4tAh1iJ",
        "outputId": "86d99a7d-d887-4d08-bac2-e74a23437ba6"
      },
      "source": [
        "# MultinomialNB\n",
        "\n",
        "for n in range(1, 6):\n",
        "  # Pre-Processing\n",
        "  cv = CountVectorizer(stop_words='english', ngram_range=(n,n), tokenizer=word_tokenize)\n",
        "  text_counts = cv.fit_transform(data['text'])\n",
        "  X_train, X_test, y_train, y_test = train_test_split(text_counts, data['is_humor'], test_size=0.25, random_state=42)\n",
        "  \n",
        "  # Modeling\n",
        "  MNB = MultinomialNB()\n",
        "  MNB.fit(X_train, y_train)\n",
        "  predicted = MNB.predict(X_test)\n",
        "  accuracy_score = metrics.accuracy_score(y_test, predicted)\n",
        "  f1_score = metrics.f1_score(y_test, predicted)\n",
        "  print(f'{n}-gram Accuracy: {accuracy_score:.4f}')\n",
        "  print(f'{n}-gram F1-Score: {f1_score:.4f}')\n",
        "  print()"
      ],
      "execution_count": null,
      "outputs": [
        {
          "output_type": "error",
          "ename": "KeyboardInterrupt",
          "evalue": "ignored",
          "traceback": [
            "\u001b[0;31m---------------------------------------------------------------------------\u001b[0m",
            "\u001b[0;31mValueError\u001b[0m                                Traceback (most recent call last)",
            "\u001b[0;32m/usr/local/lib/python3.7/dist-packages/nltk/data.py\u001b[0m in \u001b[0;36mnormalize_resource_url\u001b[0;34m(resource_url)\u001b[0m\n\u001b[1;32m    185\u001b[0m     \u001b[0;32mtry\u001b[0m\u001b[0;34m:\u001b[0m\u001b[0;34m\u001b[0m\u001b[0;34m\u001b[0m\u001b[0m\n\u001b[0;32m--> 186\u001b[0;31m         \u001b[0mprotocol\u001b[0m\u001b[0;34m,\u001b[0m \u001b[0mname\u001b[0m \u001b[0;34m=\u001b[0m \u001b[0msplit_resource_url\u001b[0m\u001b[0;34m(\u001b[0m\u001b[0mresource_url\u001b[0m\u001b[0;34m)\u001b[0m\u001b[0;34m\u001b[0m\u001b[0;34m\u001b[0m\u001b[0m\n\u001b[0m\u001b[1;32m    187\u001b[0m     \u001b[0;32mexcept\u001b[0m \u001b[0mValueError\u001b[0m\u001b[0;34m:\u001b[0m\u001b[0;34m\u001b[0m\u001b[0;34m\u001b[0m\u001b[0m\n",
            "\u001b[0;32m/usr/local/lib/python3.7/dist-packages/nltk/data.py\u001b[0m in \u001b[0;36msplit_resource_url\u001b[0;34m(resource_url)\u001b[0m\n\u001b[1;32m    140\u001b[0m     \"\"\"\n\u001b[0;32m--> 141\u001b[0;31m     \u001b[0mprotocol\u001b[0m\u001b[0;34m,\u001b[0m \u001b[0mpath_\u001b[0m \u001b[0;34m=\u001b[0m \u001b[0mresource_url\u001b[0m\u001b[0;34m.\u001b[0m\u001b[0msplit\u001b[0m\u001b[0;34m(\u001b[0m\u001b[0;34m':'\u001b[0m\u001b[0;34m,\u001b[0m \u001b[0;36m1\u001b[0m\u001b[0;34m)\u001b[0m\u001b[0;34m\u001b[0m\u001b[0;34m\u001b[0m\u001b[0m\n\u001b[0m\u001b[1;32m    142\u001b[0m     \u001b[0;32mif\u001b[0m \u001b[0mprotocol\u001b[0m \u001b[0;34m==\u001b[0m \u001b[0;34m'nltk'\u001b[0m\u001b[0;34m:\u001b[0m\u001b[0;34m\u001b[0m\u001b[0;34m\u001b[0m\u001b[0m\n",
            "\u001b[0;31mValueError\u001b[0m: not enough values to unpack (expected 2, got 1)",
            "\nDuring handling of the above exception, another exception occurred:\n",
            "\u001b[0;31mKeyboardInterrupt\u001b[0m                         Traceback (most recent call last)",
            "\u001b[0;32m<ipython-input-16-bb596e3baf68>\u001b[0m in \u001b[0;36m<module>\u001b[0;34m()\u001b[0m\n\u001b[1;32m      4\u001b[0m   \u001b[0;31m# Pre-Processing\u001b[0m\u001b[0;34m\u001b[0m\u001b[0;34m\u001b[0m\u001b[0;34m\u001b[0m\u001b[0m\n\u001b[1;32m      5\u001b[0m   \u001b[0mcv\u001b[0m \u001b[0;34m=\u001b[0m \u001b[0mCountVectorizer\u001b[0m\u001b[0;34m(\u001b[0m\u001b[0mstop_words\u001b[0m\u001b[0;34m=\u001b[0m\u001b[0;34m'english'\u001b[0m\u001b[0;34m,\u001b[0m \u001b[0mngram_range\u001b[0m\u001b[0;34m=\u001b[0m\u001b[0;34m(\u001b[0m\u001b[0mn\u001b[0m\u001b[0;34m,\u001b[0m\u001b[0mn\u001b[0m\u001b[0;34m)\u001b[0m\u001b[0;34m,\u001b[0m \u001b[0mtokenizer\u001b[0m\u001b[0;34m=\u001b[0m\u001b[0mword_tokenize\u001b[0m\u001b[0;34m)\u001b[0m\u001b[0;34m\u001b[0m\u001b[0;34m\u001b[0m\u001b[0m\n\u001b[0;32m----> 6\u001b[0;31m   \u001b[0mtext_counts\u001b[0m \u001b[0;34m=\u001b[0m \u001b[0mcv\u001b[0m\u001b[0;34m.\u001b[0m\u001b[0mfit_transform\u001b[0m\u001b[0;34m(\u001b[0m\u001b[0mdata\u001b[0m\u001b[0;34m[\u001b[0m\u001b[0;34m'text'\u001b[0m\u001b[0;34m]\u001b[0m\u001b[0;34m)\u001b[0m\u001b[0;34m\u001b[0m\u001b[0;34m\u001b[0m\u001b[0m\n\u001b[0m\u001b[1;32m      7\u001b[0m   \u001b[0mX_train\u001b[0m\u001b[0;34m,\u001b[0m \u001b[0mX_test\u001b[0m\u001b[0;34m,\u001b[0m \u001b[0my_train\u001b[0m\u001b[0;34m,\u001b[0m \u001b[0my_test\u001b[0m \u001b[0;34m=\u001b[0m \u001b[0mtrain_test_split\u001b[0m\u001b[0;34m(\u001b[0m\u001b[0mtext_counts\u001b[0m\u001b[0;34m,\u001b[0m \u001b[0mdata\u001b[0m\u001b[0;34m[\u001b[0m\u001b[0;34m'is_humor'\u001b[0m\u001b[0;34m]\u001b[0m\u001b[0;34m,\u001b[0m \u001b[0mtest_size\u001b[0m\u001b[0;34m=\u001b[0m\u001b[0;36m0.25\u001b[0m\u001b[0;34m,\u001b[0m \u001b[0mrandom_state\u001b[0m\u001b[0;34m=\u001b[0m\u001b[0;36m42\u001b[0m\u001b[0;34m)\u001b[0m\u001b[0;34m\u001b[0m\u001b[0;34m\u001b[0m\u001b[0m\n\u001b[1;32m      8\u001b[0m \u001b[0;34m\u001b[0m\u001b[0m\n",
            "\u001b[0;32m/usr/local/lib/python3.7/dist-packages/sklearn/feature_extraction/text.py\u001b[0m in \u001b[0;36mfit_transform\u001b[0;34m(self, raw_documents, y)\u001b[0m\n\u001b[1;32m   1218\u001b[0m \u001b[0;34m\u001b[0m\u001b[0m\n\u001b[1;32m   1219\u001b[0m         vocabulary, X = self._count_vocab(raw_documents,\n\u001b[0;32m-> 1220\u001b[0;31m                                           self.fixed_vocabulary_)\n\u001b[0m\u001b[1;32m   1221\u001b[0m \u001b[0;34m\u001b[0m\u001b[0m\n\u001b[1;32m   1222\u001b[0m         \u001b[0;32mif\u001b[0m \u001b[0mself\u001b[0m\u001b[0;34m.\u001b[0m\u001b[0mbinary\u001b[0m\u001b[0;34m:\u001b[0m\u001b[0;34m\u001b[0m\u001b[0;34m\u001b[0m\u001b[0m\n",
            "\u001b[0;32m/usr/local/lib/python3.7/dist-packages/sklearn/feature_extraction/text.py\u001b[0m in \u001b[0;36m_count_vocab\u001b[0;34m(self, raw_documents, fixed_vocab)\u001b[0m\n\u001b[1;32m   1129\u001b[0m         \u001b[0;32mfor\u001b[0m \u001b[0mdoc\u001b[0m \u001b[0;32min\u001b[0m \u001b[0mraw_documents\u001b[0m\u001b[0;34m:\u001b[0m\u001b[0;34m\u001b[0m\u001b[0;34m\u001b[0m\u001b[0m\n\u001b[1;32m   1130\u001b[0m             \u001b[0mfeature_counter\u001b[0m \u001b[0;34m=\u001b[0m \u001b[0;34m{\u001b[0m\u001b[0;34m}\u001b[0m\u001b[0;34m\u001b[0m\u001b[0;34m\u001b[0m\u001b[0m\n\u001b[0;32m-> 1131\u001b[0;31m             \u001b[0;32mfor\u001b[0m \u001b[0mfeature\u001b[0m \u001b[0;32min\u001b[0m \u001b[0manalyze\u001b[0m\u001b[0;34m(\u001b[0m\u001b[0mdoc\u001b[0m\u001b[0;34m)\u001b[0m\u001b[0;34m:\u001b[0m\u001b[0;34m\u001b[0m\u001b[0;34m\u001b[0m\u001b[0m\n\u001b[0m\u001b[1;32m   1132\u001b[0m                 \u001b[0;32mtry\u001b[0m\u001b[0;34m:\u001b[0m\u001b[0;34m\u001b[0m\u001b[0;34m\u001b[0m\u001b[0m\n\u001b[1;32m   1133\u001b[0m                     \u001b[0mfeature_idx\u001b[0m \u001b[0;34m=\u001b[0m \u001b[0mvocabulary\u001b[0m\u001b[0;34m[\u001b[0m\u001b[0mfeature\u001b[0m\u001b[0;34m]\u001b[0m\u001b[0;34m\u001b[0m\u001b[0;34m\u001b[0m\u001b[0m\n",
            "\u001b[0;32m/usr/local/lib/python3.7/dist-packages/sklearn/feature_extraction/text.py\u001b[0m in \u001b[0;36m_analyze\u001b[0;34m(doc, analyzer, tokenizer, ngrams, preprocessor, decoder, stop_words)\u001b[0m\n\u001b[1;32m    103\u001b[0m             \u001b[0mdoc\u001b[0m \u001b[0;34m=\u001b[0m \u001b[0mpreprocessor\u001b[0m\u001b[0;34m(\u001b[0m\u001b[0mdoc\u001b[0m\u001b[0;34m)\u001b[0m\u001b[0;34m\u001b[0m\u001b[0;34m\u001b[0m\u001b[0m\n\u001b[1;32m    104\u001b[0m         \u001b[0;32mif\u001b[0m \u001b[0mtokenizer\u001b[0m \u001b[0;32mis\u001b[0m \u001b[0;32mnot\u001b[0m \u001b[0;32mNone\u001b[0m\u001b[0;34m:\u001b[0m\u001b[0;34m\u001b[0m\u001b[0;34m\u001b[0m\u001b[0m\n\u001b[0;32m--> 105\u001b[0;31m             \u001b[0mdoc\u001b[0m \u001b[0;34m=\u001b[0m \u001b[0mtokenizer\u001b[0m\u001b[0;34m(\u001b[0m\u001b[0mdoc\u001b[0m\u001b[0;34m)\u001b[0m\u001b[0;34m\u001b[0m\u001b[0;34m\u001b[0m\u001b[0m\n\u001b[0m\u001b[1;32m    106\u001b[0m         \u001b[0;32mif\u001b[0m \u001b[0mngrams\u001b[0m \u001b[0;32mis\u001b[0m \u001b[0;32mnot\u001b[0m \u001b[0;32mNone\u001b[0m\u001b[0;34m:\u001b[0m\u001b[0;34m\u001b[0m\u001b[0;34m\u001b[0m\u001b[0m\n\u001b[1;32m    107\u001b[0m             \u001b[0;32mif\u001b[0m \u001b[0mstop_words\u001b[0m \u001b[0;32mis\u001b[0m \u001b[0;32mnot\u001b[0m \u001b[0;32mNone\u001b[0m\u001b[0;34m:\u001b[0m\u001b[0;34m\u001b[0m\u001b[0;34m\u001b[0m\u001b[0m\n",
            "\u001b[0;32m<ipython-input-15-8c7f1e17083b>\u001b[0m in \u001b[0;36mword_tokenize\u001b[0;34m(text, language)\u001b[0m\n\u001b[1;32m     16\u001b[0m     \u001b[0;34m:\u001b[0m\u001b[0mtype\u001b[0m \u001b[0mlanguage\u001b[0m\u001b[0;34m:\u001b[0m \u001b[0mstr\u001b[0m\u001b[0;34m\u001b[0m\u001b[0;34m\u001b[0m\u001b[0m\n\u001b[1;32m     17\u001b[0m     \"\"\"\n\u001b[0;32m---> 18\u001b[0;31m     \u001b[0msentences\u001b[0m \u001b[0;34m=\u001b[0m \u001b[0msent_tokenize\u001b[0m\u001b[0;34m(\u001b[0m\u001b[0mtext\u001b[0m\u001b[0;34m,\u001b[0m \u001b[0mlanguage\u001b[0m\u001b[0;34m)\u001b[0m\u001b[0;34m\u001b[0m\u001b[0;34m\u001b[0m\u001b[0m\n\u001b[0m\u001b[1;32m     19\u001b[0m     return [\n\u001b[1;32m     20\u001b[0m         \u001b[0mtoken\u001b[0m \u001b[0;32mfor\u001b[0m \u001b[0msent\u001b[0m \u001b[0;32min\u001b[0m \u001b[0msentences\u001b[0m \u001b[0;32mfor\u001b[0m \u001b[0mtoken\u001b[0m \u001b[0;32min\u001b[0m \u001b[0m_treebank_word_tokenizer\u001b[0m\u001b[0;34m.\u001b[0m\u001b[0mtokenize\u001b[0m\u001b[0;34m(\u001b[0m\u001b[0msent\u001b[0m\u001b[0;34m)\u001b[0m\u001b[0;34m\u001b[0m\u001b[0;34m\u001b[0m\u001b[0m\n",
            "\u001b[0;32m/usr/local/lib/python3.7/dist-packages/nltk/tokenize/__init__.py\u001b[0m in \u001b[0;36msent_tokenize\u001b[0;34m(text, language)\u001b[0m\n\u001b[1;32m     92\u001b[0m     \u001b[0;34m:\u001b[0m\u001b[0mparam\u001b[0m \u001b[0mlanguage\u001b[0m\u001b[0;34m:\u001b[0m \u001b[0mthe\u001b[0m \u001b[0mmodel\u001b[0m \u001b[0mname\u001b[0m \u001b[0;32min\u001b[0m \u001b[0mthe\u001b[0m \u001b[0mPunkt\u001b[0m \u001b[0mcorpus\u001b[0m\u001b[0;34m\u001b[0m\u001b[0;34m\u001b[0m\u001b[0m\n\u001b[1;32m     93\u001b[0m     \"\"\"\n\u001b[0;32m---> 94\u001b[0;31m     \u001b[0mtokenizer\u001b[0m \u001b[0;34m=\u001b[0m \u001b[0mload\u001b[0m\u001b[0;34m(\u001b[0m\u001b[0;34m'tokenizers/punkt/{0}.pickle'\u001b[0m\u001b[0;34m.\u001b[0m\u001b[0mformat\u001b[0m\u001b[0;34m(\u001b[0m\u001b[0mlanguage\u001b[0m\u001b[0;34m)\u001b[0m\u001b[0;34m)\u001b[0m\u001b[0;34m\u001b[0m\u001b[0;34m\u001b[0m\u001b[0m\n\u001b[0m\u001b[1;32m     95\u001b[0m     \u001b[0;32mreturn\u001b[0m \u001b[0mtokenizer\u001b[0m\u001b[0;34m.\u001b[0m\u001b[0mtokenize\u001b[0m\u001b[0;34m(\u001b[0m\u001b[0mtext\u001b[0m\u001b[0;34m)\u001b[0m\u001b[0;34m\u001b[0m\u001b[0;34m\u001b[0m\u001b[0m\n\u001b[1;32m     96\u001b[0m \u001b[0;34m\u001b[0m\u001b[0m\n",
            "\u001b[0;32m/usr/local/lib/python3.7/dist-packages/nltk/data.py\u001b[0m in \u001b[0;36mload\u001b[0;34m(resource_url, format, cache, verbose, logic_parser, fstruct_reader, encoding)\u001b[0m\n\u001b[1;32m    800\u001b[0m     \u001b[0;34m:\u001b[0m\u001b[0mparam\u001b[0m \u001b[0mencoding\u001b[0m\u001b[0;34m:\u001b[0m \u001b[0mthe\u001b[0m \u001b[0mencoding\u001b[0m \u001b[0mof\u001b[0m \u001b[0mthe\u001b[0m \u001b[0minput\u001b[0m\u001b[0;34m;\u001b[0m \u001b[0monly\u001b[0m \u001b[0mused\u001b[0m \u001b[0;32mfor\u001b[0m \u001b[0mtext\u001b[0m \u001b[0mformats\u001b[0m\u001b[0;34m.\u001b[0m\u001b[0;34m\u001b[0m\u001b[0;34m\u001b[0m\u001b[0m\n\u001b[1;32m    801\u001b[0m     \"\"\"\n\u001b[0;32m--> 802\u001b[0;31m     \u001b[0mresource_url\u001b[0m \u001b[0;34m=\u001b[0m \u001b[0mnormalize_resource_url\u001b[0m\u001b[0;34m(\u001b[0m\u001b[0mresource_url\u001b[0m\u001b[0;34m)\u001b[0m\u001b[0;34m\u001b[0m\u001b[0;34m\u001b[0m\u001b[0m\n\u001b[0m\u001b[1;32m    803\u001b[0m     \u001b[0mresource_url\u001b[0m \u001b[0;34m=\u001b[0m \u001b[0madd_py3_data\u001b[0m\u001b[0;34m(\u001b[0m\u001b[0mresource_url\u001b[0m\u001b[0;34m)\u001b[0m\u001b[0;34m\u001b[0m\u001b[0;34m\u001b[0m\u001b[0m\n\u001b[1;32m    804\u001b[0m \u001b[0;34m\u001b[0m\u001b[0m\n",
            "\u001b[0;32m/usr/local/lib/python3.7/dist-packages/nltk/data.py\u001b[0m in \u001b[0;36mnormalize_resource_url\u001b[0;34m(resource_url)\u001b[0m\n\u001b[1;32m    184\u001b[0m     \"\"\"\n\u001b[1;32m    185\u001b[0m     \u001b[0;32mtry\u001b[0m\u001b[0;34m:\u001b[0m\u001b[0;34m\u001b[0m\u001b[0;34m\u001b[0m\u001b[0m\n\u001b[0;32m--> 186\u001b[0;31m         \u001b[0mprotocol\u001b[0m\u001b[0;34m,\u001b[0m \u001b[0mname\u001b[0m \u001b[0;34m=\u001b[0m \u001b[0msplit_resource_url\u001b[0m\u001b[0;34m(\u001b[0m\u001b[0mresource_url\u001b[0m\u001b[0;34m)\u001b[0m\u001b[0;34m\u001b[0m\u001b[0;34m\u001b[0m\u001b[0m\n\u001b[0m\u001b[1;32m    187\u001b[0m     \u001b[0;32mexcept\u001b[0m \u001b[0mValueError\u001b[0m\u001b[0;34m:\u001b[0m\u001b[0;34m\u001b[0m\u001b[0;34m\u001b[0m\u001b[0m\n\u001b[1;32m    188\u001b[0m         \u001b[0;31m# the resource url has no protocol, use the nltk protocol by default\u001b[0m\u001b[0;34m\u001b[0m\u001b[0;34m\u001b[0m\u001b[0;34m\u001b[0m\u001b[0m\n",
            "\u001b[0;31mKeyboardInterrupt\u001b[0m: "
          ]
        }
      ]
    },
    {
      "cell_type": "code",
      "metadata": {
        "id": "D0nQPQOUjfXY"
      },
      "source": [
        "# ComplementNB\n",
        "\n",
        "for n in range(1, 6):\n",
        "  # Pre-Processing\n",
        "  cv = CountVectorizer(stop_words='english', ngram_range=(n,n), tokenizer=word_tokenize)\n",
        "  text_counts = cv.fit_transform(data['text'])\n",
        "  X_train, X_test, y_train, y_test = train_test_split(text_counts, data['is_humor'], test_size=0.25, random_state=42)\n",
        "  \n",
        "  # Modeling\n",
        "  CNB = ComplementNB()\n",
        "  CNB.fit(X_train, y_train)\n",
        "  predicted = CNB.predict(X_test)\n",
        "  accuracy_score = metrics.accuracy_score(y_test, predicted)\n",
        "  f1_score = metrics.f1_score(y_test, predicted)\n",
        "  print(f'{n}-gram Accuracy: {accuracy_score:.4f}')\n",
        "  print(f'{n}-gram F1-Score: {f1_score:.4f}')\n",
        "  print()"
      ],
      "execution_count": null,
      "outputs": []
    },
    {
      "cell_type": "code",
      "metadata": {
        "id": "HT-JEihCjkMe"
      },
      "source": [
        "# GaussianNB\n",
        "\n",
        "# Pre-Processing\n",
        "cv = CountVectorizer(stop_words='english', ngram_range=(1,1), tokenizer=word_tokenize)\n",
        "text_counts = cv.fit_transform(data['text'])\n",
        "X_train, X_test, y_train, y_test = train_test_split(text_counts, data['is_humor'], test_size=0.25, random_state=42)\n",
        "\n",
        "# Modeling\n",
        "GNB = GaussianNB()\n",
        "GNB.fit(X_train.todense(), y_train)\n",
        "predicted = GNB.predict(X_test.todense())\n",
        "accuracy_score = metrics.accuracy_score(predicted, y_test)\n",
        "accuracy_score = metrics.accuracy_score(y_test, predicted)\n",
        "f1_score = metrics.f1_score(y_test, predicted)\n",
        "print(f'1-gram Accuracy: {accuracy_score:.4f}')\n",
        "print(f'1-gram F1-Score: {f1_score:.4f}')"
      ],
      "execution_count": null,
      "outputs": []
    },
    {
      "cell_type": "code",
      "metadata": {
        "id": "op2m48tHjz--"
      },
      "source": [
        "# BernoulliNB\n",
        "\n",
        "for n in range(1, 6):\n",
        "  # Pre-Processing\n",
        "  cv = CountVectorizer(stop_words='english', ngram_range=(n,n), tokenizer=word_tokenize)\n",
        "  text_counts = cv.fit_transform(data['text'])\n",
        "  X_train, X_test, y_train, y_test = train_test_split(text_counts, data['is_humor'], test_size=0.25, random_state=42)\n",
        "  \n",
        "  # Modeling\n",
        "  BNB = BernoulliNB()\n",
        "  BNB.fit(X_train, y_train)\n",
        "  predicted = BNB.predict(X_test)\n",
        "  accuracy_score = metrics.accuracy_score(y_test, predicted)\n",
        "  f1_score = metrics.f1_score(y_test, predicted)\n",
        "  print(f'{n}-gram Accuracy: {accuracy_score:.4f}')\n",
        "  print(f'{n}-gram F1-Score: {f1_score:.4f}')\n",
        "  print()"
      ],
      "execution_count": null,
      "outputs": []
    },
    {
      "cell_type": "code",
      "metadata": {
        "id": "TrA4k6x3kaZC"
      },
      "source": [
        "tfidf = TfidfVectorizer()\n",
        "text_counts = tfidf.fit_transform(data['text'])\n",
        "\n",
        "X_train, X_test, y_train, y_test = train_test_split(text_counts, data['is_humor'], test_size=0.25, random_state=42)\n",
        "\n",
        "for model, name in zip((MultinomialNB(), ComplementNB(), BernoulliNB()), ('MNB', 'CNB', 'BNB')):\n",
        "  model.fit(X_train, y_train)\n",
        "  predicted = model.predict(X_test)\n",
        "  accuracy_score = metrics.accuracy_score(y_test, predicted)\n",
        "  f1_score = metrics.f1_score(y_test, predicted)\n",
        "  print(f'{name} Accuracy: {accuracy_score:.4f}')\n",
        "  print(f'{name} F1-Score: {f1_score:.4f}')\n",
        "  print()"
      ],
      "execution_count": null,
      "outputs": []
    },
    {
      "cell_type": "code",
      "metadata": {
        "id": "yolxl-IAl3Pg"
      },
      "source": [
        "SGDC = SGDClassifier()\n",
        "LSVC = LinearSVC()\n",
        "\n",
        "tfidf = TfidfVectorizer()\n",
        "text_counts = tfidf.fit_transform(data['text'])\n",
        "\n",
        "X_train, X_test, y_train, y_test = train_test_split(text_counts, data['is_humor'], test_size=0.25, random_state=42)\n",
        "\n",
        "LSVC.fit(X_train, y_train)\n",
        "accuracy_score = metrics.accuracy_score(y_test, LSVC.predict(X_test))\n",
        "f1_score = metrics.f1_score(y_test, LSVC.predict(X_test))\n",
        "print(f'LSVC Accuracy (TF-IDF): {accuracy_score:.4f}')\n",
        "print(f'LSVC F1-Score (TF-IDF): {f1_score:.4f}')\n",
        "print()\n",
        "\n",
        "SGDC.fit(X_train, y_train)\n",
        "accuracy_score = metrics.accuracy_score(y_test, SGDC.predict(X_test))\n",
        "f1_score = metrics.f1_score(y_test, SGDC.predict(X_test))\n",
        "print(f'SGDC Accuracy (TF-IDF): {accuracy_score:.4f}')\n",
        "print(f'SGDC F1-Score (TF-IDF): {f1_score:.4f}')\n",
        "print()\n",
        "\n",
        "\n",
        "cv = CountVectorizer(stop_words='english', ngram_range=(n,n), tokenizer=word_tokenize)\n",
        "text_counts = cv.fit_transform(data['text'])\n",
        "\n",
        "X_train, X_test, y_train, y_test = train_test_split(text_counts, data['is_humor'], test_size=0.25, random_state=42)\n",
        "\n",
        "LSVC.fit(X_train, y_train)\n",
        "accuracy_score = metrics.accuracy_score(y_test, LSVC.predict(X_test))\n",
        "f1_score = metrics.f1_score(y_test, LSVC.predict(X_test))\n",
        "print(f'LSVC Accuracy (CV): {accuracy_score:.4f}')\n",
        "print(f'LSVC F1-Score (CV): {f1_score:.4f}')\n",
        "print()\n",
        "\n",
        "SGDC.fit(X_train, y_train)\n",
        "accuracy_score = metrics.accuracy_score(y_test, SGDC.predict(X_test))\n",
        "f1_score = metrics.f1_score(y_test, SGDC.predict(X_test))\n",
        "\n",
        "print(f'SGDC Accuracy (CV): {accuracy_score:.4f}')\n",
        "print(f'SGDC F1-Score (CV): {f1_score:.4f}')"
      ],
      "execution_count": null,
      "outputs": []
    },
    {
      "cell_type": "code",
      "metadata": {
        "id": "SnqKtcHdsM6k"
      },
      "source": [
        "sentences = preprocessForEmbdeddings(data['text'])\n",
        "\n",
        "model = Doc2Vec(vector_size=100, min_count=1, epochs=30, seed=42)\n",
        "model.build_vocab(documents)\n",
        "model.train(documents, total_examples=model.corpus_count, epochs=model.epochs)"
      ],
      "execution_count": null,
      "outputs": []
    },
    {
      "cell_type": "code",
      "metadata": {
        "id": "BVHyEyiYglRr"
      },
      "source": [
        "sentences = preprocessForTraining(data['text'])\n",
        "\n",
        "X_train, X_test, y_train, y_test = train_test_split(sentences, data['is_humor'], test_size=0.25, random_state=42)\n",
        "\n",
        "for i in range(len(X_train)):\n",
        "  X_train[i] = model.infer_vector(X_train[i])\n",
        "\n",
        "for i in range(len(X_test)):\n",
        "  X_test[i] = model.infer_vector(X_test[i])"
      ],
      "execution_count": null,
      "outputs": []
    },
    {
      "cell_type": "code",
      "metadata": {
        "id": "oVLfGim7xS_l"
      },
      "source": [
        "clf = LogisticRegression()\n",
        "clf.fit(X_train, y_train)\n",
        "print(f'LogisticReg Accuracy: {clf.score(X_test, y_test)*100:.2f}%')\n",
        "print(f'LogisticReg F1-Score: {metrics.f1_score(y_test, clf.predict(X_test)):.4f}')\n",
        "print()\n",
        "\n",
        "xgb = XGBClassifier()\n",
        "xgb.fit(np.array(X_train), np.array(y_train))\n",
        "\n",
        "print(f'XGB Accuracy: {metrics.accuracy_score(xgb.predict(X_test), y_test)*100:.4f}%')\n",
        "print(f'XGB F1-Score: {metrics.f1_score(y_test, xgb.predict(X_test)):.4f}')\n",
        "print()\n",
        "\n",
        "lgbm = LGBMClassifier(seed=42,\n",
        "                      feature_fraction=0.8,\n",
        "                      feature_fraction_bynode=0.8,\n",
        "                      learning_rate=0.01,\n",
        "                      n_estimators=1000)\n",
        "lgbm.fit(np.array(X_train), np.array(y_train))\n",
        "\n",
        "print(f'LGBM Accuracy: {metrics.accuracy_score(lgbm.predict(X_test), y_test)*100:.2f}%')\n",
        "print(f'LGBM F1-Score: {metrics.f1_score(y_test, lgbm.predict(X_test)):.4f}')\n",
        "print()\n",
        "\n",
        "# cat = CatBoostClassifier(eval_metric='F1', verbose=200)\n",
        "# cat.fit(np.array(X_train), np.array(y_train))\n",
        "\n",
        "# print(f'CatBoost Accuracy: {metrics.accuracy_score(cat.predict(X_test), y_test)*100:.2f}%')\n",
        "# print(f'CatBoost F1-Score: {metrics.f1_score(y_test, cat.predict(X_test)):.4f}')"
      ],
      "execution_count": null,
      "outputs": []
    },
    {
      "cell_type": "code",
      "metadata": {
        "id": "JDPgpqnYuwFe"
      },
      "source": [
        "X_train = preprocessForTraining(data['text'])\n",
        "y_train = data['is_humor']\n",
        "\n",
        "for i in range(len(X_train)):\n",
        "  X_train[i] = model.infer_vector(X_train[i])\n",
        "\n",
        "params = {'learning_rate': [0.001, 0.01, 0.1],\n",
        "          'n_estimators': [100, 250, 500, 1000],\n",
        "          'feature_fraction': [0.8, 0.9, 1.0],\n",
        "          'feature_fraction_bynode': [0.8, 0.9, 1.0]}\n",
        "\n",
        "clf = GridSearchCV(LGBMClassifier(seed=42), param_grid=params)\n",
        "clf.fit(np.array(X_train), np.array(y_train))\n",
        "\n",
        "clf.get_params()"
      ],
      "execution_count": null,
      "outputs": []
    },
    {
      "cell_type": "code",
      "metadata": {
        "id": "ETZx2Iwod-sg"
      },
      "source": [
        "# Training CNB on entire dataset and creating submission\n",
        "tfidf = TfidfVectorizer()\n",
        "text_counts = tfidf.fit_transform(data['text'])\n",
        "\n",
        "CNB = ComplementNB()\n",
        "CNB.fit(text_counts, data['is_humor'])\n",
        "\n",
        "test = pd.read_csv('./public_test.csv')\n",
        "text_counts_test = tfidf.transform(test['text'])\n",
        "\n",
        "preds = CNB.predict(text_counts_test)\n",
        "test['is_humor'] = preds\n",
        "\n",
        "test.to_csv('./is_humor_submission.csv', index=False)"
      ],
      "execution_count": null,
      "outputs": []
    },
    {
      "cell_type": "code",
      "metadata": {
        "id": "bbbUy9hugasO"
      },
      "source": [
        "# Training LGBM on entire dataset and creating submission\n",
        "sentences = preprocessForTraining(data['text'])\n",
        "\n",
        "for i in range(len(sentences)):\n",
        "  sentences[i] = model.infer_vector(sentences[i])\n",
        "\n",
        "lgbm = LGBMClassifier(seed=42,\n",
        "                      feature_fraction=0.8,\n",
        "                      feature_fraction_bynode=0.8,\n",
        "                      learning_rate=0.01,\n",
        "                      n_estimators=1000)\n",
        "\n",
        "lgbm.fit(np.array(sentences), np.array(data['is_humor']))\n",
        "\n",
        "test = pd.read_csv('./public_test.csv')\n",
        "sentences = preprocessForTraining(test['text'])\n",
        "\n",
        "for i in range(len(sentences)):\n",
        "  sentences[i] = model.infer_vector(sentences[i])\n",
        "\n",
        "preds = lgbm.predict(np.array(sentences))\n",
        "test['is_humor'] = preds\n",
        "\n",
        "test.to_csv('./is_humor_submission-3.csv', index=False)"
      ],
      "execution_count": null,
      "outputs": []
    },
    {
      "cell_type": "markdown",
      "metadata": {
        "id": "zxNHUte4B9kv"
      },
      "source": [
        "# humor_rating"
      ]
    },
    {
      "cell_type": "code",
      "metadata": {
        "colab": {
          "base_uri": "https://localhost:8080/",
          "height": 204
        },
        "id": "QaXl_fQkCCIJ",
        "outputId": "202fea9b-2e70-450a-dc69-e0990acad1e5"
      },
      "source": [
        "humorous = data.loc[data['is_humor'] == 1]\n",
        "\n",
        "humorous.head()"
      ],
      "execution_count": null,
      "outputs": [
        {
          "output_type": "execute_result",
          "data": {
            "text/html": [
              "<div>\n",
              "<style scoped>\n",
              "    .dataframe tbody tr th:only-of-type {\n",
              "        vertical-align: middle;\n",
              "    }\n",
              "\n",
              "    .dataframe tbody tr th {\n",
              "        vertical-align: top;\n",
              "    }\n",
              "\n",
              "    .dataframe thead th {\n",
              "        text-align: right;\n",
              "    }\n",
              "</style>\n",
              "<table border=\"1\" class=\"dataframe\">\n",
              "  <thead>\n",
              "    <tr style=\"text-align: right;\">\n",
              "      <th></th>\n",
              "      <th>id</th>\n",
              "      <th>text</th>\n",
              "      <th>is_humor</th>\n",
              "      <th>humor_rating</th>\n",
              "      <th>humor_controversy</th>\n",
              "      <th>offense_rating</th>\n",
              "    </tr>\n",
              "  </thead>\n",
              "  <tbody>\n",
              "    <tr>\n",
              "      <th>0</th>\n",
              "      <td>1</td>\n",
              "      <td>TENNESSEE: We're the best state. Nobody even c...</td>\n",
              "      <td>1</td>\n",
              "      <td>2.42</td>\n",
              "      <td>1.0</td>\n",
              "      <td>0.2</td>\n",
              "    </tr>\n",
              "    <tr>\n",
              "      <th>1</th>\n",
              "      <td>2</td>\n",
              "      <td>A man inserted an advertisement in the classif...</td>\n",
              "      <td>1</td>\n",
              "      <td>2.50</td>\n",
              "      <td>1.0</td>\n",
              "      <td>1.1</td>\n",
              "    </tr>\n",
              "    <tr>\n",
              "      <th>2</th>\n",
              "      <td>3</td>\n",
              "      <td>How many men does it take to open a can of bee...</td>\n",
              "      <td>1</td>\n",
              "      <td>1.95</td>\n",
              "      <td>0.0</td>\n",
              "      <td>2.4</td>\n",
              "    </tr>\n",
              "    <tr>\n",
              "      <th>3</th>\n",
              "      <td>4</td>\n",
              "      <td>Told my mom I hit 1200 Twitter followers. She ...</td>\n",
              "      <td>1</td>\n",
              "      <td>2.11</td>\n",
              "      <td>1.0</td>\n",
              "      <td>0.0</td>\n",
              "    </tr>\n",
              "    <tr>\n",
              "      <th>4</th>\n",
              "      <td>5</td>\n",
              "      <td>Roses are dead. Love is fake. Weddings are bas...</td>\n",
              "      <td>1</td>\n",
              "      <td>2.78</td>\n",
              "      <td>0.0</td>\n",
              "      <td>0.1</td>\n",
              "    </tr>\n",
              "  </tbody>\n",
              "</table>\n",
              "</div>"
            ],
            "text/plain": [
              "   id  ... offense_rating\n",
              "0   1  ...            0.2\n",
              "1   2  ...            1.1\n",
              "2   3  ...            2.4\n",
              "3   4  ...            0.0\n",
              "4   5  ...            0.1\n",
              "\n",
              "[5 rows x 6 columns]"
            ]
          },
          "metadata": {
            "tags": []
          },
          "execution_count": 21
        }
      ]
    },
    {
      "cell_type": "code",
      "metadata": {
        "id": "6s9UW7JjCNKW"
      },
      "source": [
        "sentences = preprocessForEmbdeddings(humorous['text'])\n",
        "\n",
        "documents = [TaggedDocument(sent[0], sent[1]) for sent in sentences]\n",
        "\n",
        "model = Doc2Vec(vector_size=200, min_count=1, epochs=40, seed=42)\n",
        "model.build_vocab(documents)\n",
        "model.train(documents, total_examples=model.corpus_count, epochs=model.epochs)"
      ],
      "execution_count": null,
      "outputs": []
    },
    {
      "cell_type": "code",
      "metadata": {
        "id": "ocR0rwJeZdt2"
      },
      "source": [
        "X_train, X_test, y_train, y_test = train_test_split(sentences, humorous['humor_rating'], test_size=0.25, random_state=42)\n",
        "\n",
        "for i in range(len(X_train)):\n",
        "  X_train[i] = model.infer_vector(X_train[i][0])\n",
        "\n",
        "for i in range(len(X_test)):\n",
        "  X_test[i] = model.infer_vector(X_test[i][0])"
      ],
      "execution_count": null,
      "outputs": []
    },
    {
      "cell_type": "code",
      "metadata": {
        "colab": {
          "base_uri": "https://localhost:8080/"
        },
        "id": "n8Zzdi0_ZRiY",
        "outputId": "d806b2a6-6adf-47e0-8da4-8dbdb29b89b8"
      },
      "source": [
        "xgb = XGBRegressor(random_state=42,\n",
        "                   colsample_bylevel=0.7,\n",
        "                   colsample_bytree=0.7,\n",
        "                   learning_rate=0.1,\n",
        "                   max_depth=3,\n",
        "                   reg_alpha=1,\n",
        "                   reg_lambda=2,\n",
        "                   objective='reg:squarederror')\n",
        "\n",
        "xgb.fit(X_train, y_train)\n",
        "print(f'XGB RMSE: {metrics.mean_squared_error(y_test, xgb.predict(X_test), squared=False)}')"
      ],
      "execution_count": null,
      "outputs": [
        {
          "output_type": "stream",
          "text": [
            "XGB RMSE: 0.5383724140064745\n"
          ],
          "name": "stdout"
        }
      ]
    },
    {
      "cell_type": "code",
      "metadata": {
        "colab": {
          "base_uri": "https://localhost:8080/"
        },
        "id": "zpI-e4DPNEwi",
        "outputId": "87b55b0d-169f-446e-e734-324257bc4ae6"
      },
      "source": [
        "'''\n",
        "Performing 5-Fold Cross Validation to find the best vector size for Doc2Vec\n",
        "'''\n",
        "\n",
        "kf = KFold(n_splits=5)\n",
        "kf.get_n_splits(sentences)\n",
        "xgb = XGBRegressor(random_state=42,\n",
        "                   colsample_bylevel=0.7,\n",
        "                   colsample_bytree=0.7,\n",
        "                   learning_rate=0.1,\n",
        "                   max_depth=3,\n",
        "                   reg_alpha=1,\n",
        "                   reg_lambda=2,\n",
        "                   objective='reg:squarederror')\n",
        "\n",
        "for size in [75, 100, 150, 200]:\n",
        "  for n_epochs in [20, 30, 40, 50]:\n",
        "    RMSE = []\n",
        "    X = preprocessForEmbdeddings(humorous['text'])\n",
        "    y = np.array(humorous['humor_rating'])\n",
        "\n",
        "    # Train the Doc2Vec model\n",
        "    documents = [TaggedDocument(sent[0], sent[1]) for sent in X]\n",
        "\n",
        "    model = Doc2Vec(vector_size=size, min_count=1, epochs=n_epochs, seed=42)\n",
        "    model.build_vocab(documents)\n",
        "    model.train(documents, total_examples=model.corpus_count, epochs=model.epochs)\n",
        "\n",
        "    for i in range(len(X)):\n",
        "      X[i] = model.infer_vector(X[i][0])\n",
        "\n",
        "    X = np.array(X)\n",
        "\n",
        "    # 5-Fold CV\n",
        "    for train_index, test_index in kf.split(X):\n",
        "      X_train, X_test = X[train_index], X[test_index]\n",
        "      y_train, y_test = y[train_index], y[test_index]\n",
        "\n",
        "      xgb.fit(X_train, y_train)\n",
        "      RMSE.append(metrics.mean_squared_error(y_test, xgb.predict(X_test), squared=False))\n",
        "\n",
        "    print(f'Average RMSE (size={size}, epochs={n_epochs}): {sum(RMSE)/len(RMSE)}')"
      ],
      "execution_count": null,
      "outputs": [
        {
          "output_type": "stream",
          "text": [
            "Average RMSE (size=75, epochs=20): 0.5471395678852673\n",
            "Average RMSE (size=75, epochs=30): 0.5444030208396408\n",
            "Average RMSE (size=75, epochs=40): 0.544712620312995\n",
            "Average RMSE (size=75, epochs=50): 0.5434236948147474\n",
            "Average RMSE (size=100, epochs=20): 0.5466195180937032\n",
            "Average RMSE (size=100, epochs=30): 0.542664236138487\n",
            "Average RMSE (size=100, epochs=40): 0.5407638220823916\n",
            "Average RMSE (size=100, epochs=50): 0.5437764652978829\n",
            "Average RMSE (size=150, epochs=20): 0.5478456768211311\n",
            "Average RMSE (size=150, epochs=30): 0.544142667121877\n",
            "Average RMSE (size=150, epochs=40): 0.5419996693161329\n",
            "Average RMSE (size=150, epochs=50): 0.5418764711304255\n",
            "Average RMSE (size=200, epochs=20): 0.5478648574793962\n",
            "Average RMSE (size=200, epochs=30): 0.5436066972302493\n",
            "Average RMSE (size=200, epochs=40): 0.5393032883166677\n",
            "Average RMSE (size=200, epochs=50): 0.5427020606651956\n"
          ],
          "name": "stdout"
        }
      ]
    },
    {
      "cell_type": "code",
      "metadata": {
        "colab": {
          "base_uri": "https://localhost:8080/"
        },
        "id": "-9t1eEzFhvqR",
        "outputId": "9baa79f8-8040-4809-8678-2c6b81ae87bb"
      },
      "source": [
        "params = {'learning_rate': [0.001, 0.01, 0.1],\n",
        "          'max_depth': [3, 4, 5],\n",
        "          'colsample_bytree': [0.7, 0.8, 0.9],\n",
        "          'colsample_bylevel': [0.7, 0.8, 0.9],\n",
        "          'reg_alpha': [0.5, 1, 2],\n",
        "          'reg_lambda': [1, 2, 4]}\n",
        "\n",
        "clf = GridSearchCV(XGBRegressor(random_state=42, objective='reg:squarederror'), param_grid=params)\n",
        "clf.fit(X_train, y_train)"
      ],
      "execution_count": null,
      "outputs": [
        {
          "output_type": "execute_result",
          "data": {
            "text/plain": [
              "{'num_estimators': 100}"
            ]
          },
          "metadata": {
            "tags": []
          },
          "execution_count": 33
        }
      ]
    },
    {
      "cell_type": "code",
      "metadata": {
        "id": "6FHd1cIja2ow"
      },
      "source": [
        "# Training LGBM on entire dataset and creating submission\n",
        "sentences = preprocessForTraining(humorous['text'])\n",
        "\n",
        "for i in range(len(sentences)):\n",
        "  sentences[i] = model.infer_vector(sentences[i])\n",
        "\n",
        "xgb = XGBRegressor(random_state=42,\n",
        "                   colsample_bylevel=0.7,\n",
        "                   colsample_bytree=0.7,\n",
        "                   learning_rate=0.1,\n",
        "                   max_depth=3,\n",
        "                   reg_alpha=1,\n",
        "                   reg_lambda=2,\n",
        "                   objective='reg:squarederror')\n",
        "\n",
        "xgb.fit(np.array(sentences), np.array(humorous['humor_rating']))\n",
        "\n",
        "test = pd.read_csv('./public_test.csv')\n",
        "sentences = preprocessForTraining(test['text'])\n",
        "\n",
        "for i in range(len(sentences)):\n",
        "  sentences[i] = model.infer_vector(sentences[i])\n",
        "\n",
        "preds = xgb.predict(np.array(sentences))\n",
        "test['humor_rating'] = preds\n",
        "\n",
        "test.to_csv('./humor_rating.csv', index=False)"
      ],
      "execution_count": null,
      "outputs": []
    },
    {
      "cell_type": "markdown",
      "metadata": {
        "id": "_3PASJUJ7VN6"
      },
      "source": [
        "# humor_controversy"
      ]
    },
    {
      "cell_type": "code",
      "metadata": {
        "id": "g4aBTuFL9pXi"
      },
      "source": [
        "sentences = preprocessForEmbdeddings(humorous['text'])\n",
        "\n",
        "documents = [TaggedDocument(sent[0], sent[1]) for sent in sentences]\n",
        "\n",
        "model = Doc2Vec(vector_size=100, min_count=1, epochs=30, seed=42)\n",
        "model.build_vocab(documents)\n",
        "model.train(documents, total_examples=model.corpus_count, epochs=model.epochs)"
      ],
      "execution_count": null,
      "outputs": []
    },
    {
      "cell_type": "code",
      "metadata": {
        "colab": {
          "base_uri": "https://localhost:8080/",
          "height": 297
        },
        "id": "1yaA_9J0vt96",
        "outputId": "199069df-7744-422d-9cc6-366d3d616364"
      },
      "source": [
        "sns.histplot(humorous['humor_controversy'])"
      ],
      "execution_count": null,
      "outputs": [
        {
          "output_type": "execute_result",
          "data": {
            "text/plain": [
              "<matplotlib.axes._subplots.AxesSubplot at 0x7f68076fce90>"
            ]
          },
          "metadata": {
            "tags": []
          },
          "execution_count": 45
        },
        {
          "output_type": "display_data",
          "data": {
            "image/png": "[encoded data removed]",
            "text/plain": [
              "<Figure size 432x288 with 1 Axes>"
            ]
          },
          "metadata": {
            "tags": []
          }
        }
      ]
    },
    {
      "cell_type": "code",
      "metadata": {
        "id": "Qjku-z_H_Jeg"
      },
      "source": [
        "sentences = preprocessForTraining(humorous['text'])\n",
        "\n",
        "X_train, X_test, y_train, y_test = train_test_split(sentences, humorous['humor_controversy'], test_size=0.25, random_state=42)\n",
        "\n",
        "for i in range(len(X_train)):\n",
        "  X_train[i] = model.infer_vector(X_train[i][0])\n",
        "\n",
        "for i in range(len(X_test)):\n",
        "  X_test[i] = model.infer_vector(X_test[i][0])"
      ],
      "execution_count": null,
      "outputs": []
    },
    {
      "cell_type": "code",
      "metadata": {
        "colab": {
          "base_uri": "https://localhost:8080/"
        },
        "id": "jQwBTtMU_TKU",
        "outputId": "ebceffca-7ece-4d7e-b886-0610ba11ed52"
      },
      "source": [
        "clf = LogisticRegression()\n",
        "clf.fit(X_train, y_train)\n",
        "print(f'LogisticReg Accuracy: {clf.score(X_test, y_test)*100:.2f}%')\n",
        "print(f'LogisticReg F1-Score: {metrics.f1_score(y_test, clf.predict(X_test)):.4f}')\n",
        "print()\n",
        "\n",
        "xgb = XGBClassifier()\n",
        "xgb.fit(np.array(X_train), np.array(y_train))\n",
        "\n",
        "print(f'XGB Accuracy: {metrics.accuracy_score(xgb.predict(X_test), y_test)*100:.4f}%')\n",
        "print(f'XGB F1-Score: {metrics.f1_score(y_test, xgb.predict(X_test)):.4f}')\n",
        "print()\n",
        "\n",
        "lgbm = LGBMClassifier()\n",
        "lgbm.fit(np.array(X_train), np.array(y_train))\n",
        "\n",
        "print(f'LGBM Accuracy: {metrics.accuracy_score(lgbm.predict(X_test), y_test)*100:.2f}%')\n",
        "print(f'LGBM F1-Score: {metrics.f1_score(y_test, lgbm.predict(X_test)):.4f}')"
      ],
      "execution_count": null,
      "outputs": [
        {
          "output_type": "stream",
          "text": [
            "LogisticReg Accuracy: 49.55%\n",
            "LogisticReg F1-Score: 0.4610\n",
            "\n",
            "XGB Accuracy: 47.7697%\n",
            "XGB F1-Score: 0.4798\n",
            "\n",
            "LGBM Accuracy: 49.47%\n",
            "LGBM F1-Score: 0.5012\n"
          ],
          "name": "stdout"
        }
      ]
    },
    {
      "cell_type": "code",
      "metadata": {
        "colab": {
          "base_uri": "https://localhost:8080/"
        },
        "id": "Wepi9EYL_b9A",
        "outputId": "d0427152-0227-4669-9154-8f875e6bba07"
      },
      "source": [
        "tfidf = TfidfVectorizer()\n",
        "text_counts = tfidf.fit_transform(humorous['text'])\n",
        "\n",
        "X_train, X_test, y_train, y_test = train_test_split(text_counts, humorous['humor_controversy'], test_size=0.25, random_state=42)\n",
        "\n",
        "for model, name in zip((MultinomialNB(), ComplementNB(), BernoulliNB()), ('MNB', 'CNB', 'BNB')):\n",
        "  model.fit(X_train, y_train)\n",
        "  predicted = model.predict(X_test)\n",
        "  accuracy_score = metrics.accuracy_score(y_test, predicted)\n",
        "  f1_score = metrics.f1_score(y_test, predicted)\n",
        "  print(f'{name} Accuracy: {accuracy_score:.4f}')\n",
        "  print(f'{name} F1-Score: {f1_score:.4f}')\n",
        "  print()"
      ],
      "execution_count": null,
      "outputs": [
        {
          "output_type": "stream",
          "text": [
            "MNB Accuracy: 0.4801\n",
            "MNB F1-Score: 0.4582\n",
            "\n",
            "CNB Accuracy: 0.4818\n",
            "CNB F1-Score: 0.4617\n",
            "\n",
            "BNB Accuracy: 0.4834\n",
            "BNB F1-Score: 0.4774\n",
            "\n"
          ],
          "name": "stdout"
        }
      ]
    },
    {
      "cell_type": "code",
      "metadata": {
        "id": "UaBShFX6t2Wl"
      },
      "source": [
        "# Training CNB on entire dataset and creating submission\n",
        "tfidf = TfidfVectorizer()\n",
        "text_counts = tfidf.fit_transform(humorous['text'])\n",
        "\n",
        "CNB = ComplementNB()\n",
        "CNB.fit(text_counts, humorous['humor_controversy'])\n",
        "\n",
        "test = pd.read_csv('./public_test.csv')\n",
        "text_counts_test = tfidf.transform(test['text'])\n",
        "\n",
        "preds = CNB.predict(text_counts_test)\n",
        "test['humor_controversy'] = [int(p) for p in preds]\n",
        "\n",
        "test.to_csv('./humor_controversy_submission.csv', index=False)"
      ],
      "execution_count": null,
      "outputs": []
    },
    {
      "cell_type": "code",
      "metadata": {
        "id": "L69rGN0hjN2_"
      },
      "source": [
        ""
      ],
      "execution_count": null,
      "outputs": []
    }
  ]
}