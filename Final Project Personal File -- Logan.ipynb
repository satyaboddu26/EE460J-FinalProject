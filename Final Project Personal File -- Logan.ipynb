{
 "cells": [
  {
   "cell_type": "code",
   "execution_count": null,
   "metadata": {},
   "outputs": [],
   "source": [
    "#paper's authors' github:  https://github.com/Moradnejad/ColBERT-Using-BERT-Sentence-Embedding-for-Humor-Detection\n",
    "#to run this, you will need to have downloaded the Colbert model as indicated on the authors' github page"
   ]
  },
  {
   "cell_type": "code",
   "execution_count": 1,
   "metadata": {},
   "outputs": [
    {
     "name": "stdout",
     "output_type": "stream",
     "text": [
      "Model: \"functional_3\"\n",
      "__________________________________________________________________________________________________\n",
      "Layer (type)                    Output Shape         Param #     Connected to                     \n",
      "==================================================================================================\n",
      "input_19 (InputLayer)           [(None, 20)]         0                                            \n",
      "__________________________________________________________________________________________________\n",
      "input_20 (InputLayer)           [(None, 20)]         0                                            \n",
      "__________________________________________________________________________________________________\n",
      "input_21 (InputLayer)           [(None, 20)]         0                                            \n",
      "__________________________________________________________________________________________________\n",
      "input_22 (InputLayer)           [(None, 20)]         0                                            \n",
      "__________________________________________________________________________________________________\n",
      "input_23 (InputLayer)           [(None, 20)]         0                                            \n",
      "__________________________________________________________________________________________________\n",
      "input_24 (InputLayer)           [(None, 20)]         0                                            \n",
      "__________________________________________________________________________________________________\n",
      "input_25 (InputLayer)           [(None, 20)]         0                                            \n",
      "__________________________________________________________________________________________________\n",
      "input_26 (InputLayer)           [(None, 20)]         0                                            \n",
      "__________________________________________________________________________________________________\n",
      "input_27 (InputLayer)           [(None, 20)]         0                                            \n",
      "__________________________________________________________________________________________________\n",
      "input_28 (InputLayer)           [(None, 20)]         0                                            \n",
      "__________________________________________________________________________________________________\n",
      "input_29 (InputLayer)           [(None, 20)]         0                                            \n",
      "__________________________________________________________________________________________________\n",
      "input_30 (InputLayer)           [(None, 20)]         0                                            \n",
      "__________________________________________________________________________________________________\n",
      "input_31 (InputLayer)           [(None, 20)]         0                                            \n",
      "__________________________________________________________________________________________________\n",
      "input_32 (InputLayer)           [(None, 20)]         0                                            \n",
      "__________________________________________________________________________________________________\n",
      "input_33 (InputLayer)           [(None, 20)]         0                                            \n",
      "__________________________________________________________________________________________________\n",
      "input_34 (InputLayer)           [(None, 100)]        0                                            \n",
      "__________________________________________________________________________________________________\n",
      "input_35 (InputLayer)           [(None, 100)]        0                                            \n",
      "__________________________________________________________________________________________________\n",
      "input_36 (InputLayer)           [(None, 100)]        0                                            \n",
      "__________________________________________________________________________________________________\n",
      "bert (Custom>TFBertMainLayer)   multiple             109482240   input_19[0][0]                   \n",
      "                                                                 input_20[0][0]                   \n",
      "                                                                 input_21[0][0]                   \n",
      "                                                                 input_22[0][0]                   \n",
      "                                                                 input_23[0][0]                   \n",
      "                                                                 input_24[0][0]                   \n",
      "                                                                 input_25[0][0]                   \n",
      "                                                                 input_26[0][0]                   \n",
      "                                                                 input_27[0][0]                   \n",
      "                                                                 input_28[0][0]                   \n",
      "                                                                 input_29[0][0]                   \n",
      "                                                                 input_30[0][0]                   \n",
      "                                                                 input_31[0][0]                   \n",
      "                                                                 input_32[0][0]                   \n",
      "                                                                 input_33[0][0]                   \n",
      "                                                                 input_34[0][0]                   \n",
      "                                                                 input_35[0][0]                   \n",
      "                                                                 input_36[0][0]                   \n",
      "__________________________________________________________________________________________________\n",
      "global_average_pooling1d_6 (Glo (None, 768)          0           bert[0][0]                       \n",
      "__________________________________________________________________________________________________\n",
      "global_average_pooling1d_7 (Glo (None, 768)          0           bert[1][0]                       \n",
      "__________________________________________________________________________________________________\n",
      "global_average_pooling1d_8 (Glo (None, 768)          0           bert[2][0]                       \n",
      "__________________________________________________________________________________________________\n",
      "global_average_pooling1d_9 (Glo (None, 768)          0           bert[3][0]                       \n",
      "__________________________________________________________________________________________________\n",
      "global_average_pooling1d_10 (Gl (None, 768)          0           bert[4][0]                       \n",
      "__________________________________________________________________________________________________\n",
      "global_average_pooling1d_11 (Gl (None, 768)          0           bert[5][0]                       \n",
      "__________________________________________________________________________________________________\n",
      "dense_15 (Dense)                (None, 32)           24608       global_average_pooling1d_6[0][0] \n",
      "__________________________________________________________________________________________________\n",
      "dense_17 (Dense)                (None, 32)           24608       global_average_pooling1d_7[0][0] \n",
      "__________________________________________________________________________________________________\n",
      "dense_19 (Dense)                (None, 32)           24608       global_average_pooling1d_8[0][0] \n",
      "__________________________________________________________________________________________________\n",
      "dense_21 (Dense)                (None, 32)           24608       global_average_pooling1d_9[0][0] \n",
      "__________________________________________________________________________________________________\n",
      "dense_23 (Dense)                (None, 32)           24608       global_average_pooling1d_10[0][0]\n",
      "__________________________________________________________________________________________________\n",
      "dense_25 (Dense)                (None, 256)          196864      global_average_pooling1d_11[0][0]\n",
      "__________________________________________________________________________________________________\n",
      "dropout_44 (Dropout)            (None, 32)           0           dense_15[0][0]                   \n",
      "__________________________________________________________________________________________________\n",
      "dropout_45 (Dropout)            (None, 32)           0           dense_17[0][0]                   \n",
      "__________________________________________________________________________________________________\n",
      "dropout_46 (Dropout)            (None, 32)           0           dense_19[0][0]                   \n",
      "__________________________________________________________________________________________________\n",
      "dropout_47 (Dropout)            (None, 32)           0           dense_21[0][0]                   \n",
      "__________________________________________________________________________________________________\n",
      "dropout_48 (Dropout)            (None, 32)           0           dense_23[0][0]                   \n",
      "__________________________________________________________________________________________________\n",
      "dropout_49 (Dropout)            (None, 256)          0           dense_25[0][0]                   \n",
      "__________________________________________________________________________________________________\n",
      "dense_16 (Dense)                (None, 8)            264         dropout_44[0][0]                 \n",
      "__________________________________________________________________________________________________\n",
      "dense_18 (Dense)                (None, 8)            264         dropout_45[0][0]                 \n",
      "__________________________________________________________________________________________________\n",
      "dense_20 (Dense)                (None, 8)            264         dropout_46[0][0]                 \n",
      "__________________________________________________________________________________________________\n",
      "dense_22 (Dense)                (None, 8)            264         dropout_47[0][0]                 \n",
      "__________________________________________________________________________________________________\n",
      "dense_24 (Dense)                (None, 8)            264         dropout_48[0][0]                 \n",
      "__________________________________________________________________________________________________\n",
      "dense_26 (Dense)                (None, 64)           16448       dropout_49[0][0]                 \n",
      "__________________________________________________________________________________________________\n",
      "concatenate_1 (Concatenate)     (None, 104)          0           dense_16[0][0]                   \n",
      "                                                                 dense_18[0][0]                   \n",
      "                                                                 dense_20[0][0]                   \n",
      "                                                                 dense_22[0][0]                   \n",
      "                                                                 dense_24[0][0]                   \n",
      "                                                                 dense_26[0][0]                   \n",
      "__________________________________________________________________________________________________\n",
      "dense_27 (Dense)                (None, 512)          53760       concatenate_1[0][0]              \n",
      "__________________________________________________________________________________________________\n",
      "dropout_50 (Dropout)            (None, 512)          0           dense_27[0][0]                   \n",
      "__________________________________________________________________________________________________\n",
      "dense_28 (Dense)                (None, 256)          131328      dropout_50[0][0]                 \n",
      "__________________________________________________________________________________________________\n",
      "dense_29 (Dense)                (None, 1)            257         dense_28[0][0]                   \n",
      "==================================================================================================\n",
      "Total params: 110,005,257\n",
      "Trainable params: 110,005,257\n",
      "Non-trainable params: 0\n",
      "__________________________________________________________________________________________________\n"
     ]
    }
   ],
   "source": [
    "import keras\n",
    "import tensorflow as tf\n",
    "\n",
    "\n",
    "\n",
    "model = keras.models.load_model(\"Colbert/colbert-trained/\")\n",
    "model.summary()"
   ]
  },
  {
   "cell_type": "code",
   "execution_count": 2,
   "metadata": {},
   "outputs": [
    {
     "name": "stdout",
     "output_type": "stream",
     "text": [
      "2.4.1\n"
     ]
    }
   ],
   "source": [
    "import keras\n",
    "import tensorflow as tf\n",
    "\n",
    "import pandas as pd\n",
    "import numpy as np\n",
    "import sklearn\n",
    "from sklearn.model_selection import GroupKFold\n",
    "import matplotlib.pyplot as plt\n",
    "from tqdm.notebook import tqdm\n",
    "\n",
    "# import tensorflow_hub as hub\n",
    "import tensorflow as tf\n",
    "# import bert_tokenization as tokenization\n",
    "import tensorflow.keras.backend as K\n",
    "from tensorflow import keras \n",
    "\n",
    "import os\n",
    "from scipy.stats import spearmanr\n",
    "from math import floor, ceil\n",
    "from transformers import *\n",
    "\n",
    "import seaborn as sns\n",
    "import string\n",
    "import re    #for regex\n",
    "\n",
    "import contractions\n",
    "\n",
    "\n",
    "np.set_printoptions(suppress=True)\n",
    "print(tf.__version__)"
   ]
  },
  {
   "cell_type": "code",
   "execution_count": 3,
   "metadata": {},
   "outputs": [
    {
     "data": {
      "text/html": [
       "<div>\n",
       "<style scoped>\n",
       "    .dataframe tbody tr th:only-of-type {\n",
       "        vertical-align: middle;\n",
       "    }\n",
       "\n",
       "    .dataframe tbody tr th {\n",
       "        vertical-align: top;\n",
       "    }\n",
       "\n",
       "    .dataframe thead th {\n",
       "        text-align: right;\n",
       "    }\n",
       "</style>\n",
       "<table border=\"1\" class=\"dataframe\">\n",
       "  <thead>\n",
       "    <tr style=\"text-align: right;\">\n",
       "      <th></th>\n",
       "      <th>id</th>\n",
       "      <th>text</th>\n",
       "    </tr>\n",
       "  </thead>\n",
       "  <tbody>\n",
       "    <tr>\n",
       "      <td>0</td>\n",
       "      <td>9001</td>\n",
       "      <td>Finding out your ex got fat is like finding 20...</td>\n",
       "    </tr>\n",
       "    <tr>\n",
       "      <td>1</td>\n",
       "      <td>9002</td>\n",
       "      <td>For Brockmann, stereotypes imperil national se...</td>\n",
       "    </tr>\n",
       "    <tr>\n",
       "      <td>2</td>\n",
       "      <td>9003</td>\n",
       "      <td>A girl runs up to her mother with a pile of cr...</td>\n",
       "    </tr>\n",
       "    <tr>\n",
       "      <td>3</td>\n",
       "      <td>9004</td>\n",
       "      <td>gotta wonder if baseball still would've been c...</td>\n",
       "    </tr>\n",
       "    <tr>\n",
       "      <td>4</td>\n",
       "      <td>9005</td>\n",
       "      <td>When you're dreading getting in the shower cuz...</td>\n",
       "    </tr>\n",
       "  </tbody>\n",
       "</table>\n",
       "</div>"
      ],
      "text/plain": [
       "     id                                               text\n",
       "0  9001  Finding out your ex got fat is like finding 20...\n",
       "1  9002  For Brockmann, stereotypes imperil national se...\n",
       "2  9003  A girl runs up to her mother with a pile of cr...\n",
       "3  9004  gotta wonder if baseball still would've been c...\n",
       "4  9005  When you're dreading getting in the shower cuz..."
      ]
     },
     "execution_count": 3,
     "metadata": {},
     "output_type": "execute_result"
    }
   ],
   "source": [
    "train_data = pd.read_csv(\"train.csv\")\n",
    "test_data = pd.read_csv(\"public_test.csv\")\n",
    "train_data.head()\n",
    "test_data.head()"
   ]
  },
  {
   "cell_type": "code",
   "execution_count": 4,
   "metadata": {},
   "outputs": [
    {
     "data": {
      "text/html": [
       "<div>\n",
       "<style scoped>\n",
       "    .dataframe tbody tr th:only-of-type {\n",
       "        vertical-align: middle;\n",
       "    }\n",
       "\n",
       "    .dataframe tbody tr th {\n",
       "        vertical-align: top;\n",
       "    }\n",
       "\n",
       "    .dataframe thead th {\n",
       "        text-align: right;\n",
       "    }\n",
       "</style>\n",
       "<table border=\"1\" class=\"dataframe\">\n",
       "  <thead>\n",
       "    <tr style=\"text-align: right;\">\n",
       "      <th></th>\n",
       "      <th>id</th>\n",
       "      <th>text</th>\n",
       "    </tr>\n",
       "  </thead>\n",
       "  <tbody>\n",
       "    <tr>\n",
       "      <td>0</td>\n",
       "      <td>1</td>\n",
       "      <td>TENNESSEE: We're the best state. Nobody even c...</td>\n",
       "    </tr>\n",
       "    <tr>\n",
       "      <td>1</td>\n",
       "      <td>2</td>\n",
       "      <td>A man inserted an advertisement in the classif...</td>\n",
       "    </tr>\n",
       "    <tr>\n",
       "      <td>2</td>\n",
       "      <td>3</td>\n",
       "      <td>How many men does it take to open a can of bee...</td>\n",
       "    </tr>\n",
       "    <tr>\n",
       "      <td>3</td>\n",
       "      <td>4</td>\n",
       "      <td>Told my mom I hit 1200 Twitter followers. She ...</td>\n",
       "    </tr>\n",
       "    <tr>\n",
       "      <td>4</td>\n",
       "      <td>5</td>\n",
       "      <td>Roses are dead. Love is fake. Weddings are bas...</td>\n",
       "    </tr>\n",
       "  </tbody>\n",
       "</table>\n",
       "</div>"
      ],
      "text/plain": [
       "   id                                               text\n",
       "0   1  TENNESSEE: We're the best state. Nobody even c...\n",
       "1   2  A man inserted an advertisement in the classif...\n",
       "2   3  How many men does it take to open a can of bee...\n",
       "3   4  Told my mom I hit 1200 Twitter followers. She ...\n",
       "4   5  Roses are dead. Love is fake. Weddings are bas..."
      ]
     },
     "execution_count": 4,
     "metadata": {},
     "output_type": "execute_result"
    }
   ],
   "source": [
    "train_is_humor = train_data[\"is_humor\"]\n",
    "train_humor_rating = train_data[\"humor_rating\"]\n",
    "train_humor_controversy = train_data[\"humor_controversy\"]\n",
    "train_offense_rating = train_data[\"offense_rating\"]\n",
    "train_data = train_data.drop(columns = ['is_humor',\"humor_rating\", \"humor_controversy\", \"offense_rating\"])\n",
    "\n",
    "train_data.head()\n"
   ]
  },
  {
   "cell_type": "code",
   "execution_count": 4,
   "metadata": {},
   "outputs": [
    {
     "name": "stdout",
     "output_type": "stream",
     "text": [
      "A man inserted an advertisement in the classifieds \"Wife Wanted\". The next day, he received 1000 of replies, all reading: \"You can have mine.\" Free delivery also available at your door step\n"
     ]
    }
   ],
   "source": [
    "print(train_data.iloc[1,1])"
   ]
  },
  {
   "cell_type": "code",
   "execution_count": 5,
   "metadata": {},
   "outputs": [
    {
     "data": {
      "text/plain": [
       "189"
      ]
     },
     "execution_count": 5,
     "metadata": {},
     "output_type": "execute_result"
    }
   ],
   "source": [
    "len(train_data.iloc[1,1])"
   ]
  },
  {
   "cell_type": "code",
   "execution_count": 7,
   "metadata": {},
   "outputs": [
    {
     "name": "stdout",
     "output_type": "stream",
     "text": [
      "32\n"
     ]
    }
   ],
   "source": [
    "word_list = train_data.iloc[1,1].split()\n",
    "number_of_words = len(word_list)\n",
    "print(number_of_words)"
   ]
  },
  {
   "cell_type": "code",
   "execution_count": 5,
   "metadata": {},
   "outputs": [],
   "source": [
    "#preprocessing data to match what the paper did\n",
    "\n",
    "indices = []\n",
    "for i in range(len(train_data)):\n",
    "    word_list = train_data.iloc[i,1].split()\n",
    "    number_of_words = len(word_list)\n",
    "    if (((len(train_data.iloc[i,1]) > 29) & (len(train_data.iloc[i,1]) < 101)) & ((number_of_words > 9) & (number_of_words < 19))):\n",
    "        indices.append(i)\n",
    "    train_data.iloc[i,1] = contractions.fix(train_data.iloc[i,1])\n",
    "    train_data.iloc[i,1] = train_data.iloc[i, 1].capitalize().capitalize()"
   ]
  },
  {
   "cell_type": "code",
   "execution_count": 6,
   "metadata": {},
   "outputs": [
    {
     "data": {
      "text/plain": [
       "2893"
      ]
     },
     "execution_count": 6,
     "metadata": {},
     "output_type": "execute_result"
    }
   ],
   "source": [
    "len(indices)"
   ]
  },
  {
   "cell_type": "code",
   "execution_count": 10,
   "metadata": {},
   "outputs": [
    {
     "data": {
      "text/plain": [
       "'Told my mom i hit 1200 twitter followers. she pointed out how my brother owns a house and i am wanted by several collection agencies. oh ma!'"
      ]
     },
     "execution_count": 10,
     "metadata": {},
     "output_type": "execute_result"
    }
   ],
   "source": [
    "train_data.iloc[3,1]"
   ]
  },
  {
   "cell_type": "code",
   "execution_count": 9,
   "metadata": {},
   "outputs": [
    {
     "data": {
      "text/plain": [
       "(8000, 2)"
      ]
     },
     "execution_count": 9,
     "metadata": {},
     "output_type": "execute_result"
    }
   ],
   "source": [
    "train_data.shape"
   ]
  },
  {
   "cell_type": "code",
   "execution_count": 7,
   "metadata": {},
   "outputs": [
    {
     "data": {
      "text/plain": [
       "139"
      ]
     },
     "execution_count": 7,
     "metadata": {},
     "output_type": "execute_result"
    }
   ],
   "source": [
    "len(train_data.iloc[3,1])"
   ]
  },
  {
   "cell_type": "code",
   "execution_count": 7,
   "metadata": {},
   "outputs": [],
   "source": [
    "train_data = train_data.iloc[indices, :]"
   ]
  },
  {
   "cell_type": "code",
   "execution_count": 10,
   "metadata": {},
   "outputs": [
    {
     "data": {
      "text/plain": [
       "98"
      ]
     },
     "execution_count": 10,
     "metadata": {},
     "output_type": "execute_result"
    }
   ],
   "source": [
    "len(train_data.iloc[3,1])"
   ]
  },
  {
   "cell_type": "code",
   "execution_count": 9,
   "metadata": {},
   "outputs": [
    {
     "data": {
      "text/plain": [
       "(2893, 2)"
      ]
     },
     "execution_count": 9,
     "metadata": {},
     "output_type": "execute_result"
    }
   ],
   "source": [
    "train_data.shape"
   ]
  },
  {
   "cell_type": "code",
   "execution_count": 8,
   "metadata": {},
   "outputs": [],
   "source": [
    "train_is_humor = train_is_humor.iloc[indices]"
   ]
  },
  {
   "cell_type": "code",
   "execution_count": 10,
   "metadata": {},
   "outputs": [
    {
     "data": {
      "text/plain": [
       "(2893,)"
      ]
     },
     "execution_count": 10,
     "metadata": {},
     "output_type": "execute_result"
    }
   ],
   "source": [
    "train_is_humor.shape"
   ]
  },
  {
   "cell_type": "code",
   "execution_count": 11,
   "metadata": {},
   "outputs": [],
   "source": [
    "#preprocessing test data as specified by paper\n",
    "\n",
    "indices = []\n",
    "for i in range(len(test_data)):\n",
    "    word_list = test_data.iloc[i,1].split()\n",
    "    number_of_words = len(word_list)\n",
    "    if (((len(test_data.iloc[i,1]) > 29) & (len(test_data.iloc[i,1]) < 101)) & ((number_of_words > 9) & (number_of_words < 19))):\n",
    "        indices.append(i)\n",
    "    test_data.iloc[i,1] = contractions.fix(test_data.iloc[i,1])\n",
    "    test_data.iloc[i,1] = test_data.iloc[i, 1].capitalize().capitalize()"
   ]
  },
  {
   "cell_type": "code",
   "execution_count": 12,
   "metadata": {},
   "outputs": [],
   "source": [
    "test_data = test_data.iloc[indices, :]"
   ]
  },
  {
   "cell_type": "code",
   "execution_count": 13,
   "metadata": {},
   "outputs": [],
   "source": [
    "import numpy as np\n",
    "from sklearn.model_selection import train_test_split\n",
    "\n",
    "\n",
    "X_train, X_test, y_train, y_test = train_test_split(train_data, train_is_humor, test_size=0.2, random_state=42)"
   ]
  },
  {
   "cell_type": "code",
   "execution_count": 32,
   "metadata": {},
   "outputs": [
    {
     "data": {
      "text/plain": [
       "0    1\n",
       "1    1\n",
       "2    1\n",
       "3    1\n",
       "4    1\n",
       "Name: is_humor, dtype: int64"
      ]
     },
     "execution_count": 32,
     "metadata": {},
     "output_type": "execute_result"
    }
   ],
   "source": [
    "train_is_humor.head()"
   ]
  },
  {
   "cell_type": "code",
   "execution_count": 31,
   "metadata": {},
   "outputs": [
    {
     "data": {
      "text/plain": [
       "1467    1\n",
       "5768    0\n",
       "5714    1\n",
       "1578    0\n",
       "6958    1\n",
       "Name: is_humor, dtype: int64"
      ]
     },
     "execution_count": 31,
     "metadata": {},
     "output_type": "execute_result"
    }
   ],
   "source": [
    "y_train.head()"
   ]
  },
  {
   "cell_type": "code",
   "execution_count": 27,
   "metadata": {},
   "outputs": [
    {
     "data": {
      "text/plain": [
       "(6400, 2)"
      ]
     },
     "execution_count": 27,
     "metadata": {},
     "output_type": "execute_result"
    }
   ],
   "source": [
    "X_train.shape"
   ]
  },
  {
   "cell_type": "code",
   "execution_count": null,
   "metadata": {},
   "outputs": [],
   "source": []
  },
  {
   "cell_type": "code",
   "execution_count": 14,
   "metadata": {},
   "outputs": [],
   "source": [
    "from transformers import BertTokenizer\n",
    "\n",
    "MODEL_TYPE = 'bert-base-uncased'\n",
    "tokenizer = BertTokenizer.from_pretrained(MODEL_TYPE)"
   ]
  },
  {
   "cell_type": "code",
   "execution_count": 15,
   "metadata": {},
   "outputs": [
    {
     "name": "stderr",
     "output_type": "stream",
     "text": [
      "[nltk_data] Downloading package punkt to\n",
      "[nltk_data]     C:\\Users\\lwing\\AppData\\Roaming\\nltk_data...\n",
      "[nltk_data]   Package punkt is already up-to-date!\n"
     ]
    }
   ],
   "source": [
    "import nltk\n",
    "nltk.download('punkt')\n",
    "from nltk.tokenize import sent_tokenize"
   ]
  },
  {
   "cell_type": "code",
   "execution_count": 16,
   "metadata": {},
   "outputs": [],
   "source": [
    "MAX_SENTENCE_LENGTH = 20\n",
    "MAX_SENTENCES = 5\n",
    "MAX_LENGTH = 100"
   ]
  },
  {
   "cell_type": "code",
   "execution_count": 17,
   "metadata": {},
   "outputs": [],
   "source": [
    "def return_id(str1, str2, truncation_strategy, length):\n",
    "\n",
    "    inputs = tokenizer.encode_plus(str1, str2,\n",
    "        add_special_tokens=True,\n",
    "        max_length=length,\n",
    "        truncation_strategy=truncation_strategy)\n",
    "\n",
    "    input_ids =  inputs[\"input_ids\"]\n",
    "    input_masks = [1] * len(input_ids)\n",
    "    input_segments = inputs[\"token_type_ids\"]\n",
    "    padding_length = length - len(input_ids)\n",
    "    padding_id = tokenizer.pad_token_id\n",
    "    input_ids = input_ids + ([padding_id] * padding_length)\n",
    "    input_masks = input_masks + ([0] * padding_length)\n",
    "    input_segments = input_segments + ([0] * padding_length)\n",
    "\n",
    "    return [input_ids, input_masks, input_segments]\n",
    "\n",
    "\n",
    "def compute_input_arrays(df, columns, tokenizer):\n",
    "    model_input = []\n",
    "    for xx in range((MAX_SENTENCES*3)+3):\n",
    "        model_input.append([])\n",
    "    \n",
    "    for _, row in tqdm(df[columns].iterrows()):\n",
    "        i = 0\n",
    "        \n",
    "        # sent\n",
    "        sentences = sent_tokenize(row.text)\n",
    "        for xx in range(MAX_SENTENCES):\n",
    "            s = sentences[xx] if xx<len(sentences) else ''\n",
    "            ids_q, masks_q, segments_q = return_id(s, None, 'longest_first', MAX_SENTENCE_LENGTH)\n",
    "            model_input[i].append(ids_q)\n",
    "            i+=1\n",
    "            model_input[i].append(masks_q)\n",
    "            i+=1\n",
    "            model_input[i].append(segments_q)\n",
    "            i+=1\n",
    "        \n",
    "        # full row\n",
    "        ids_q, masks_q, segments_q = return_id(row.text, None, 'longest_first', MAX_LENGTH)\n",
    "        model_input[i].append(ids_q)\n",
    "        i+=1\n",
    "        model_input[i].append(masks_q)\n",
    "        i+=1\n",
    "        model_input[i].append(segments_q)\n",
    "        \n",
    "    for xx in range((MAX_SENTENCES*3)+3):\n",
    "        model_input[xx] = np.asarray(model_input[xx], dtype=np.int32)\n",
    "        \n",
    "    print(model_input[0].shape)\n",
    "    return model_input"
   ]
  },
  {
   "cell_type": "code",
   "execution_count": 18,
   "metadata": {},
   "outputs": [
    {
     "data": {
      "application/vnd.jupyter.widget-view+json": {
       "model_id": "1b580e7cd1484887bdae09e92bcbf584",
       "version_major": 2,
       "version_minor": 0
      },
      "text/plain": [
       "HBox(children=(IntProgress(value=1, bar_style='info', max=1), HTML(value='')))"
      ]
     },
     "metadata": {},
     "output_type": "display_data"
    },
    {
     "name": "stderr",
     "output_type": "stream",
     "text": [
      "Truncation was not explicitly activated but `max_length` is provided a specific value, please use `truncation=True` to explicitly truncate examples to max length. Defaulting to 'longest_first' truncation strategy. If you encode pairs of sequences (GLUE-style) with the tokenizer you can select this strategy more precisely by providing a specific strategy to `truncation`.\n"
     ]
    },
    {
     "name": "stdout",
     "output_type": "stream",
     "text": [
      "\n",
      "(2314, 20)\n"
     ]
    },
    {
     "data": {
      "application/vnd.jupyter.widget-view+json": {
       "model_id": "0605fe881f3645b5b7ad0a0fc488df82",
       "version_major": 2,
       "version_minor": 0
      },
      "text/plain": [
       "HBox(children=(IntProgress(value=1, bar_style='info', max=1), HTML(value='')))"
      ]
     },
     "metadata": {},
     "output_type": "display_data"
    },
    {
     "name": "stdout",
     "output_type": "stream",
     "text": [
      "\n",
      "(579, 20)\n"
     ]
    }
   ],
   "source": [
    "inputs      = compute_input_arrays(X_train, ['text'], tokenizer)\n",
    "test_inputs = compute_input_arrays(X_test, ['text'], tokenizer)"
   ]
  },
  {
   "cell_type": "code",
   "execution_count": 19,
   "metadata": {},
   "outputs": [
    {
     "name": "stdout",
     "output_type": "stream",
     "text": [
      "Q: what do you call a swimming pool full of blondes? a: frosted flakes.\n",
      "['Q: what do you call a swimming pool full of blondes?', 'a: frosted flakes.']\n"
     ]
    }
   ],
   "source": [
    "xx = 7\n",
    "print(X_train.iloc[xx,1])\n",
    "print(sent_tokenize(X_train.iloc[xx,1]))"
   ]
  },
  {
   "cell_type": "code",
   "execution_count": 36,
   "metadata": {},
   "outputs": [
    {
     "name": "stdout",
     "output_type": "stream",
     "text": [
      "<class 'pandas.core.frame.DataFrame'>\n"
     ]
    }
   ],
   "source": [
    "print(type(y_train.to_frame()))"
   ]
  },
  {
   "cell_type": "code",
   "execution_count": 20,
   "metadata": {},
   "outputs": [],
   "source": [
    "def compute_output_arrays(df, columns):\n",
    "    return np.asarray(df[columns])\n",
    "\n",
    "outputs = compute_output_arrays(y_train.to_frame(), ['is_humor'])"
   ]
  },
  {
   "cell_type": "code",
   "execution_count": 21,
   "metadata": {},
   "outputs": [],
   "source": [
    "# Evaluation Metrics\n",
    "import sklearn\n",
    "def print_evaluation_metrics(y_true, y_pred, label='', is_regression=True, label2=''):\n",
    "    print('==================', label2)\n",
    "    ### For regression\n",
    "    if is_regression:\n",
    "        print('mean_absolute_error',label,':', sklearn.metrics.mean_absolute_error(y_true, y_pred))\n",
    "        print('mean_squared_error',label,':', sklearn.metrics.mean_squared_error(y_true, y_pred))\n",
    "        print('r2 score',label,':', sklearn.metrics.r2_score(y_true, y_pred))\n",
    "        #     print('max_error',label,':', sklearn.metrics.max_error(y_true, y_pred))\n",
    "        return sklearn.metrics.mean_squared_error(y_true, y_pred)\n",
    "    else:\n",
    "        ### FOR Classification\n",
    "#         print('balanced_accuracy_score',label,':', sklearn.metrics.balanced_accuracy_score(y_true, y_pred))\n",
    "#         print('average_precision_score',label,':', sklearn.metrics.average_precision_score(y_true, y_pred))\n",
    "#         print('balanced_accuracy_score',label,':', sklearn.metrics.balanced_accuracy_score(y_true, y_pred))\n",
    "#         print('accuracy_score',label,':', sklearn.metrics.accuracy_score(y_true, y_pred))\n",
    "        print('f1_score',label,':', sklearn.metrics.f1_score(y_true, y_pred))\n",
    "        \n",
    "        matrix = sklearn.metrics.confusion_matrix(y_true, y_pred)\n",
    "        print(matrix)\n",
    "        TP,TN,FP,FN = matrix[1][1],matrix[0][0],matrix[0][1],matrix[1][0]\n",
    "        Accuracy = (TP+TN)/(TP+FP+FN+TN)\n",
    "        Precision = TP/(TP+FP)\n",
    "        Recall = TP/(TP+FN)\n",
    "        F1 = 2*(Recall * Precision) / (Recall + Precision)\n",
    "        print('Acc', Accuracy, 'Prec', Precision, 'Rec', Recall, 'F1',F1)\n",
    "        return sklearn.metrics.accuracy_score(y_true, y_pred)"
   ]
  },
  {
   "cell_type": "code",
   "execution_count": 22,
   "metadata": {},
   "outputs": [],
   "source": [
    "valid_inputs = inputs\n",
    "valid_outputs = outputs"
   ]
  },
  {
   "cell_type": "code",
   "execution_count": 23,
   "metadata": {},
   "outputs": [],
   "source": [
    "model.trainable = False"
   ]
  },
  {
   "cell_type": "code",
   "execution_count": 24,
   "metadata": {},
   "outputs": [],
   "source": [
    "# model.layers[25].trainable = True\n",
    "# model.layers[26].trainable = True\n",
    "# model.layers[27].trainable = True\n",
    "# model.layers[28].trainable = True\n",
    "# model.layers[29].trainable = True\n",
    "# model.layers[30].trainable = True\n",
    "# model.layers[31].trainable = True\n",
    "# model.layers[32].trainable = True\n",
    "# model.layers[33].trainable = True\n",
    "# model.layers[34].trainable = True\n",
    "# model.layers[35].trainable = True\n",
    "# model.layers[36].trainable = True\n",
    "# model.layers[37].trainable = True\n",
    "# model.layers[38].trainable = True\n",
    "# model.layers[39].trainable = True\n",
    "# model.layers[40].trainable = True\n",
    "# model.layers[41].trainable = True\n",
    "# model.layers[42].trainable = True\n",
    "# model.layers[43].trainable = True\n",
    "# model.layers[44].trainable = True\n",
    "model.layers[45].trainable = True\n",
    "model.layers[46].trainable = True\n",
    "model.layers[47].trainable = True"
   ]
  },
  {
   "cell_type": "code",
   "execution_count": 25,
   "metadata": {},
   "outputs": [
    {
     "name": "stdout",
     "output_type": "stream",
     "text": [
      "Epoch 1/10\n",
      "66/66 [==============================] - ETA: 28:27 - loss: 1.5582 - binary_accuracy: 0.78 - ETA: 6:13 - loss: 1.6563 - binary_accuracy: 0.7656 - ETA: 6:19 - loss: 1.7310 - binary_accuracy: 0.753 - ETA: 6:28 - loss: 1.7434 - binary_accuracy: 0.750 - ETA: 6:36 - loss: 1.7476 - binary_accuracy: 0.749 - ETA: 6:27 - loss: 1.7331 - binary_accuracy: 0.751 - ETA: 6:19 - loss: 1.7276 - binary_accuracy: 0.751 - ETA: 6:13 - loss: 1.7256 - binary_accuracy: 0.752 - ETA: 6:07 - loss: 1.7128 - binary_accuracy: 0.754 - ETA: 6:02 - loss: 1.7135 - binary_accuracy: 0.754 - ETA: 5:55 - loss: 1.7153 - binary_accuracy: 0.753 - ETA: 5:47 - loss: 1.7182 - binary_accuracy: 0.753 - ETA: 5:40 - loss: 1.7204 - binary_accuracy: 0.753 - ETA: 5:33 - loss: 1.7221 - binary_accuracy: 0.752 - ETA: 5:27 - loss: 1.7266 - binary_accuracy: 0.752 - ETA: 5:19 - loss: 1.7306 - binary_accuracy: 0.751 - ETA: 5:13 - loss: 1.7378 - binary_accuracy: 0.750 - ETA: 5:06 - loss: 1.7439 - binary_accuracy: 0.750 - ETA: 4:59 - loss: 1.7468 - binary_accuracy: 0.749 - ETA: 4:53 - loss: 1.7502 - binary_accuracy: 0.749 - ETA: 4:46 - loss: 1.7526 - binary_accuracy: 0.748 - ETA: 4:40 - loss: 1.7575 - binary_accuracy: 0.748 - ETA: 4:34 - loss: 1.7602 - binary_accuracy: 0.747 - ETA: 4:27 - loss: 1.7627 - binary_accuracy: 0.747 - ETA: 4:21 - loss: 1.7640 - binary_accuracy: 0.747 - ETA: 4:14 - loss: 1.7653 - binary_accuracy: 0.747 - ETA: 4:08 - loss: 1.7664 - binary_accuracy: 0.746 - ETA: 4:01 - loss: 1.7681 - binary_accuracy: 0.746 - ETA: 3:55 - loss: 1.7695 - binary_accuracy: 0.746 - ETA: 3:49 - loss: 1.7707 - binary_accuracy: 0.746 - ETA: 3:42 - loss: 1.7719 - binary_accuracy: 0.746 - ETA: 3:36 - loss: 1.7741 - binary_accuracy: 0.745 - ETA: 3:29 - loss: 1.7767 - binary_accuracy: 0.745 - ETA: 3:23 - loss: 1.7791 - binary_accuracy: 0.744 - ETA: 3:17 - loss: 1.7816 - binary_accuracy: 0.744 - ETA: 3:10 - loss: 1.7845 - binary_accuracy: 0.744 - ETA: 3:04 - loss: 1.7876 - binary_accuracy: 0.743 - ETA: 2:58 - loss: 1.7912 - binary_accuracy: 0.743 - ETA: 2:51 - loss: 1.7950 - binary_accuracy: 0.742 - ETA: 2:45 - loss: 1.7986 - binary_accuracy: 0.742 - ETA: 2:39 - loss: 1.8012 - binary_accuracy: 0.741 - ETA: 2:33 - loss: 1.8036 - binary_accuracy: 0.741 - ETA: 2:27 - loss: 1.8059 - binary_accuracy: 0.740 - ETA: 2:20 - loss: 1.8082 - binary_accuracy: 0.740 - ETA: 2:14 - loss: 1.8105 - binary_accuracy: 0.740 - ETA: 2:08 - loss: 1.8133 - binary_accuracy: 0.739 - ETA: 2:01 - loss: 1.8161 - binary_accuracy: 0.739 - ETA: 1:55 - loss: 1.8192 - binary_accuracy: 0.738 - ETA: 1:49 - loss: 1.8221 - binary_accuracy: 0.738 - ETA: 1:42 - loss: 1.8244 - binary_accuracy: 0.738 - ETA: 1:36 - loss: 1.8267 - binary_accuracy: 0.737 - ETA: 1:30 - loss: 1.8285 - binary_accuracy: 0.737 - ETA: 1:23 - loss: 1.8300 - binary_accuracy: 0.737 - ETA: 1:17 - loss: 1.8312 - binary_accuracy: 0.736 - ETA: 1:10 - loss: 1.8323 - binary_accuracy: 0.736 - ETA: 1:04 - loss: 1.8329 - binary_accuracy: 0.736 - ETA: 58s - loss: 1.8338 - binary_accuracy: 0.736 - ETA: 51s - loss: 1.8347 - binary_accuracy: 0.73 - ETA: 45s - loss: 1.8356 - binary_accuracy: 0.73 - ETA: 38s - loss: 1.8365 - binary_accuracy: 0.73 - ETA: 32s - loss: 1.8374 - binary_accuracy: 0.73 - ETA: 25s - loss: 1.8384 - binary_accuracy: 0.73 - ETA: 19s - loss: 1.8392 - binary_accuracy: 0.73 - ETA: 12s - loss: 1.8400 - binary_accuracy: 0.73 - ETA: 6s - loss: 1.8408 - binary_accuracy: 0.7346 - ETA: 0s - loss: 1.8416 - binary_accuracy: 0.734 - 490s 7s/step - loss: 1.8423 - binary_accuracy: 0.7343 - val_loss: 2.1879 - val_binary_accuracy: 0.7026\n",
      "Epoch 2/10\n",
      "66/66 [==============================] - ETA: 7:03 - loss: 1.2919 - binary_accuracy: 0.781 - ETA: 6:58 - loss: 1.4846 - binary_accuracy: 0.765 - ETA: 6:49 - loss: 1.6515 - binary_accuracy: 0.750 - ETA: 6:45 - loss: 1.6888 - binary_accuracy: 0.748 - ETA: 6:38 - loss: 1.7122 - binary_accuracy: 0.745 - ETA: 6:34 - loss: 1.7057 - binary_accuracy: 0.746 - ETA: 6:30 - loss: 1.7150 - binary_accuracy: 0.745 - ETA: 6:23 - loss: 1.7340 - binary_accuracy: 0.742 - ETA: 6:18 - loss: 1.7408 - binary_accuracy: 0.742 - ETA: 6:10 - loss: 1.7418 - binary_accuracy: 0.742 - ETA: 6:06 - loss: 1.7395 - binary_accuracy: 0.742 - ETA: 5:59 - loss: 1.7370 - binary_accuracy: 0.742 - ETA: 5:52 - loss: 1.7354 - binary_accuracy: 0.742 - ETA: 5:46 - loss: 1.7350 - binary_accuracy: 0.742 - ETA: 5:38 - loss: 1.7365 - binary_accuracy: 0.741 - ETA: 5:32 - loss: 1.7412 - binary_accuracy: 0.741 - ETA: 5:25 - loss: 1.7454 - binary_accuracy: 0.740 - ETA: 5:18 - loss: 1.7483 - binary_accuracy: 0.740 - ETA: 5:11 - loss: 1.7497 - binary_accuracy: 0.739 - ETA: 5:05 - loss: 1.7539 - binary_accuracy: 0.739 - ETA: 4:58 - loss: 1.7551 - binary_accuracy: 0.738 - ETA: 4:52 - loss: 1.7568 - binary_accuracy: 0.738 - ETA: 4:46 - loss: 1.7576 - binary_accuracy: 0.738 - ETA: 4:39 - loss: 1.7596 - binary_accuracy: 0.737 - ETA: 4:33 - loss: 1.7604 - binary_accuracy: 0.737 - ETA: 4:26 - loss: 1.7596 - binary_accuracy: 0.737 - ETA: 4:18 - loss: 1.7600 - binary_accuracy: 0.737 - ETA: 4:11 - loss: 1.7606 - binary_accuracy: 0.737 - ETA: 4:04 - loss: 1.7603 - binary_accuracy: 0.737 - ETA: 3:57 - loss: 1.7596 - binary_accuracy: 0.737 - ETA: 3:50 - loss: 1.7593 - binary_accuracy: 0.737 - ETA: 3:43 - loss: 1.7602 - binary_accuracy: 0.737 - ETA: 3:36 - loss: 1.7611 - binary_accuracy: 0.737 - ETA: 3:29 - loss: 1.7621 - binary_accuracy: 0.736 - ETA: 3:22 - loss: 1.7627 - binary_accuracy: 0.736 - ETA: 3:16 - loss: 1.7633 - binary_accuracy: 0.736 - ETA: 3:09 - loss: 1.7636 - binary_accuracy: 0.736 - ETA: 3:02 - loss: 1.7636 - binary_accuracy: 0.736 - ETA: 2:55 - loss: 1.7638 - binary_accuracy: 0.736 - ETA: 2:49 - loss: 1.7643 - binary_accuracy: 0.736 - ETA: 2:42 - loss: 1.7653 - binary_accuracy: 0.736 - ETA: 2:35 - loss: 1.7659 - binary_accuracy: 0.736 - ETA: 2:29 - loss: 1.7668 - binary_accuracy: 0.735 - ETA: 2:22 - loss: 1.7679 - binary_accuracy: 0.735 - ETA: 2:16 - loss: 1.7685 - binary_accuracy: 0.735 - ETA: 2:09 - loss: 1.7691 - binary_accuracy: 0.735 - ETA: 2:02 - loss: 1.7698 - binary_accuracy: 0.735 - ETA: 1:56 - loss: 1.7705 - binary_accuracy: 0.735 - ETA: 1:49 - loss: 1.7714 - binary_accuracy: 0.735 - ETA: 1:43 - loss: 1.7724 - binary_accuracy: 0.735 - ETA: 1:36 - loss: 1.7733 - binary_accuracy: 0.735 - ETA: 1:30 - loss: 1.7744 - binary_accuracy: 0.735 - ETA: 1:23 - loss: 1.7753 - binary_accuracy: 0.734 - ETA: 1:17 - loss: 1.7763 - binary_accuracy: 0.734 - ETA: 1:11 - loss: 1.7772 - binary_accuracy: 0.734 - ETA: 1:04 - loss: 1.7780 - binary_accuracy: 0.734 - ETA: 58s - loss: 1.7790 - binary_accuracy: 0.734 - ETA: 52s - loss: 1.7801 - binary_accuracy: 0.73 - ETA: 45s - loss: 1.7811 - binary_accuracy: 0.73 - ETA: 39s - loss: 1.7823 - binary_accuracy: 0.73 - ETA: 32s - loss: 1.7837 - binary_accuracy: 0.73 - ETA: 26s - loss: 1.7849 - binary_accuracy: 0.73 - ETA: 19s - loss: 1.7864 - binary_accuracy: 0.73 - ETA: 13s - loss: 1.7876 - binary_accuracy: 0.73 - ETA: 6s - loss: 1.7891 - binary_accuracy: 0.7336 - ETA: 0s - loss: 1.7906 - binary_accuracy: 0.733 - 478s 7s/step - loss: 1.7920 - binary_accuracy: 0.7332 - val_loss: 2.1879 - val_binary_accuracy: 0.7026\n",
      "Epoch 3/10\n",
      "66/66 [==============================] - ETA: 8:34 - loss: 1.6594 - binary_accuracy: 0.781 - ETA: 8:25 - loss: 1.6913 - binary_accuracy: 0.781 - ETA: 8:25 - loss: 1.6901 - binary_accuracy: 0.781 - ETA: 8:18 - loss: 1.7243 - binary_accuracy: 0.777 - ETA: 7:53 - loss: 1.7596 - binary_accuracy: 0.773 - ETA: 7:42 - loss: 1.7491 - binary_accuracy: 0.773 - ETA: 7:29 - loss: 1.7505 - binary_accuracy: 0.772 - ETA: 7:16 - loss: 1.7540 - binary_accuracy: 0.770 - ETA: 7:02 - loss: 1.7572 - binary_accuracy: 0.768 - ETA: 6:54 - loss: 1.7561 - binary_accuracy: 0.767 - ETA: 6:44 - loss: 1.7569 - binary_accuracy: 0.765 - ETA: 6:35 - loss: 1.7556 - binary_accuracy: 0.764 - ETA: 6:30 - loss: 1.7521 - binary_accuracy: 0.762 - ETA: 6:20 - loss: 1.7481 - binary_accuracy: 0.762 - ETA: 6:12 - loss: 1.7497 - binary_accuracy: 0.760 - ETA: 6:04 - loss: 1.7511 - binary_accuracy: 0.759 - ETA: 5:56 - loss: 1.7520 - binary_accuracy: 0.759 - ETA: 5:47 - loss: 1.7500 - binary_accuracy: 0.758 - ETA: 5:39 - loss: 1.7484 - binary_accuracy: 0.757 - ETA: 5:32 - loss: 1.7494 - binary_accuracy: 0.757 - ETA: 5:27 - loss: 1.7485 - binary_accuracy: 0.756 - ETA: 5:21 - loss: 1.7468 - binary_accuracy: 0.756 - ETA: 5:13 - loss: 1.7460 - binary_accuracy: 0.755 - ETA: 5:07 - loss: 1.7460 - binary_accuracy: 0.755 - ETA: 5:01 - loss: 1.7441 - binary_accuracy: 0.755 - ETA: 4:53 - loss: 1.7439 - binary_accuracy: 0.754 - ETA: 4:48 - loss: 1.7441 - binary_accuracy: 0.754 - ETA: 4:40 - loss: 1.7458 - binary_accuracy: 0.754 - ETA: 4:32 - loss: 1.7477 - binary_accuracy: 0.753 - ETA: 4:25 - loss: 1.7501 - binary_accuracy: 0.752 - ETA: 4:17 - loss: 1.7528 - binary_accuracy: 0.752 - ETA: 4:09 - loss: 1.7545 - binary_accuracy: 0.751 - ETA: 4:01 - loss: 1.7556 - binary_accuracy: 0.751 - ETA: 3:53 - loss: 1.7555 - binary_accuracy: 0.751 - ETA: 3:45 - loss: 1.7550 - binary_accuracy: 0.750 - ETA: 3:37 - loss: 1.7541 - binary_accuracy: 0.750 - ETA: 3:30 - loss: 1.7537 - binary_accuracy: 0.750 - ETA: 3:22 - loss: 1.7532 - binary_accuracy: 0.750 - ETA: 3:14 - loss: 1.7525 - binary_accuracy: 0.749 - ETA: 3:07 - loss: 1.7522 - binary_accuracy: 0.749 - ETA: 2:59 - loss: 1.7526 - binary_accuracy: 0.749 - ETA: 2:52 - loss: 1.7536 - binary_accuracy: 0.749 - ETA: 2:45 - loss: 1.7547 - binary_accuracy: 0.748 - ETA: 2:38 - loss: 1.7561 - binary_accuracy: 0.748 - ETA: 2:31 - loss: 1.7577 - binary_accuracy: 0.748 - ETA: 2:24 - loss: 1.7595 - binary_accuracy: 0.747 - ETA: 2:16 - loss: 1.7618 - binary_accuracy: 0.747 - ETA: 2:09 - loss: 1.7644 - binary_accuracy: 0.746 - ETA: 2:03 - loss: 1.7668 - binary_accuracy: 0.746 - ETA: 1:55 - loss: 1.7690 - binary_accuracy: 0.746 - ETA: 1:48 - loss: 1.7709 - binary_accuracy: 0.745 - ETA: 1:41 - loss: 1.7729 - binary_accuracy: 0.745 - ETA: 1:33 - loss: 1.7750 - binary_accuracy: 0.744 - ETA: 1:26 - loss: 1.7768 - binary_accuracy: 0.744 - ETA: 1:19 - loss: 1.7786 - binary_accuracy: 0.744 - ETA: 1:12 - loss: 1.7803 - binary_accuracy: 0.744 - ETA: 1:04 - loss: 1.7820 - binary_accuracy: 0.743 - ETA: 57s - loss: 1.7838 - binary_accuracy: 0.743 - ETA: 50s - loss: 1.7853 - binary_accuracy: 0.74 - ETA: 43s - loss: 1.7868 - binary_accuracy: 0.74 - ETA: 35s - loss: 1.7884 - binary_accuracy: 0.74 - ETA: 28s - loss: 1.7899 - binary_accuracy: 0.74 - ETA: 21s - loss: 1.7913 - binary_accuracy: 0.74 - ETA: 14s - loss: 1.7928 - binary_accuracy: 0.74 - ETA: 7s - loss: 1.7943 - binary_accuracy: 0.7414 - ETA: 0s - loss: 1.7958 - binary_accuracy: 0.741 - 510s 8s/step - loss: 1.7972 - binary_accuracy: 0.7409 - val_loss: 2.1879 - val_binary_accuracy: 0.7026\n",
      "Epoch 4/10\n",
      "66/66 [==============================] - ETA: 7:10 - loss: 1.4291 - binary_accuracy: 0.750 - ETA: 7:23 - loss: 1.6454 - binary_accuracy: 0.726 - ETA: 7:06 - loss: 1.7883 - binary_accuracy: 0.720 - ETA: 6:59 - loss: 1.8561 - binary_accuracy: 0.716 - ETA: 6:53 - loss: 1.9138 - binary_accuracy: 0.709 - ETA: 6:45 - loss: 1.9582 - binary_accuracy: 0.704 - ETA: 6:39 - loss: 2.0029 - binary_accuracy: 0.701 - ETA: 6:31 - loss: 2.0290 - binary_accuracy: 0.699 - ETA: 6:26 - loss: 2.0417 - binary_accuracy: 0.698 - ETA: 6:23 - loss: 2.0394 - binary_accuracy: 0.699 - ETA: 6:15 - loss: 2.0328 - binary_accuracy: 0.701 - ETA: 6:08 - loss: 2.0268 - binary_accuracy: 0.703 - ETA: 6:00 - loss: 2.0185 - binary_accuracy: 0.704 - ETA: 5:54 - loss: 2.0100 - binary_accuracy: 0.705 - ETA: 5:46 - loss: 2.0010 - binary_accuracy: 0.707 - ETA: 5:40 - loss: 1.9951 - binary_accuracy: 0.708 - ETA: 5:33 - loss: 1.9892 - binary_accuracy: 0.709 - ETA: 5:25 - loss: 1.9819 - binary_accuracy: 0.710 - ETA: 5:19 - loss: 1.9760 - binary_accuracy: 0.711 - ETA: 5:11 - loss: 1.9720 - binary_accuracy: 0.712 - ETA: 5:06 - loss: 1.9676 - binary_accuracy: 0.712 - ETA: 4:59 - loss: 1.9620 - binary_accuracy: 0.713 - ETA: 4:52 - loss: 1.9587 - binary_accuracy: 0.714 - ETA: 4:45 - loss: 1.9576 - binary_accuracy: 0.714 - ETA: 4:37 - loss: 1.9565 - binary_accuracy: 0.715 - ETA: 4:31 - loss: 1.9571 - binary_accuracy: 0.715 - ETA: 4:26 - loss: 1.9583 - binary_accuracy: 0.715 - ETA: 4:20 - loss: 1.9584 - binary_accuracy: 0.715 - ETA: 4:12 - loss: 1.9592 - binary_accuracy: 0.716 - ETA: 4:05 - loss: 1.9600 - binary_accuracy: 0.716 - ETA: 3:59 - loss: 1.9619 - binary_accuracy: 0.716 - ETA: 3:52 - loss: 1.9638 - binary_accuracy: 0.716 - ETA: 3:45 - loss: 1.9647 - binary_accuracy: 0.716 - ETA: 3:38 - loss: 1.9665 - binary_accuracy: 0.716 - ETA: 3:32 - loss: 1.9684 - binary_accuracy: 0.716 - ETA: 3:25 - loss: 1.9692 - binary_accuracy: 0.716 - ETA: 3:19 - loss: 1.9689 - binary_accuracy: 0.716 - ETA: 3:12 - loss: 1.9684 - binary_accuracy: 0.716 - ETA: 3:05 - loss: 1.9680 - binary_accuracy: 0.716 - ETA: 2:58 - loss: 1.9686 - binary_accuracy: 0.716 - ETA: 2:51 - loss: 1.9691 - binary_accuracy: 0.716 - ETA: 2:44 - loss: 1.9700 - binary_accuracy: 0.716 - ETA: 2:38 - loss: 1.9710 - binary_accuracy: 0.716 - ETA: 2:31 - loss: 1.9716 - binary_accuracy: 0.716 - ETA: 2:24 - loss: 1.9719 - binary_accuracy: 0.716 - ETA: 2:17 - loss: 1.9716 - binary_accuracy: 0.716 - ETA: 2:10 - loss: 1.9716 - binary_accuracy: 0.716 - ETA: 2:03 - loss: 1.9713 - binary_accuracy: 0.717 - ETA: 1:56 - loss: 1.9709 - binary_accuracy: 0.717 - ETA: 1:49 - loss: 1.9701 - binary_accuracy: 0.717 - ETA: 1:42 - loss: 1.9691 - binary_accuracy: 0.717 - ETA: 1:35 - loss: 1.9683 - binary_accuracy: 0.717 - ETA: 1:28 - loss: 1.9671 - binary_accuracy: 0.717 - ETA: 1:22 - loss: 1.9657 - binary_accuracy: 0.718 - ETA: 1:15 - loss: 1.9644 - binary_accuracy: 0.718 - ETA: 1:08 - loss: 1.9632 - binary_accuracy: 0.718 - ETA: 1:01 - loss: 1.9620 - binary_accuracy: 0.718 - ETA: 55s - loss: 1.9607 - binary_accuracy: 0.719 - ETA: 48s - loss: 1.9592 - binary_accuracy: 0.71 - ETA: 41s - loss: 1.9577 - binary_accuracy: 0.71 - ETA: 34s - loss: 1.9565 - binary_accuracy: 0.71 - ETA: 27s - loss: 1.9556 - binary_accuracy: 0.71 - ETA: 20s - loss: 1.9546 - binary_accuracy: 0.71 - ETA: 13s - loss: 1.9536 - binary_accuracy: 0.71 - ETA: 6s - loss: 1.9526 - binary_accuracy: 0.7199 - ETA: 0s - loss: 1.9517 - binary_accuracy: 0.720 - 489s 7s/step - loss: 1.9508 - binary_accuracy: 0.7201 - val_loss: 2.1879 - val_binary_accuracy: 0.7026\n",
      "Epoch 5/10\n"
     ]
    },
    {
     "name": "stdout",
     "output_type": "stream",
     "text": [
      "66/66 [==============================] - ETA: 7:02 - loss: 1.4257 - binary_accuracy: 0.843 - ETA: 6:35 - loss: 1.6176 - binary_accuracy: 0.796 - ETA: 6:33 - loss: 1.6943 - binary_accuracy: 0.774 - ETA: 6:28 - loss: 1.7540 - binary_accuracy: 0.760 - ETA: 6:20 - loss: 1.8109 - binary_accuracy: 0.749 - ETA: 6:15 - loss: 1.8928 - binary_accuracy: 0.736 - ETA: 6:08 - loss: 1.9619 - binary_accuracy: 0.727 - ETA: 6:02 - loss: 2.0060 - binary_accuracy: 0.721 - ETA: 5:57 - loss: 2.0289 - binary_accuracy: 0.717 - ETA: 5:50 - loss: 2.0401 - binary_accuracy: 0.715 - ETA: 5:45 - loss: 2.0426 - binary_accuracy: 0.714 - ETA: 5:38 - loss: 2.0380 - binary_accuracy: 0.714 - ETA: 5:32 - loss: 2.0373 - binary_accuracy: 0.713 - ETA: 5:26 - loss: 2.0350 - binary_accuracy: 0.713 - ETA: 5:19 - loss: 2.0377 - binary_accuracy: 0.712 - ETA: 5:15 - loss: 2.0421 - binary_accuracy: 0.711 - ETA: 5:09 - loss: 2.0454 - binary_accuracy: 0.710 - ETA: 5:04 - loss: 2.0460 - binary_accuracy: 0.710 - ETA: 4:58 - loss: 2.0460 - binary_accuracy: 0.710 - ETA: 4:51 - loss: 2.0450 - binary_accuracy: 0.710 - ETA: 4:46 - loss: 2.0434 - binary_accuracy: 0.710 - ETA: 4:41 - loss: 2.0420 - binary_accuracy: 0.710 - ETA: 4:34 - loss: 2.0398 - binary_accuracy: 0.710 - ETA: 4:28 - loss: 2.0377 - binary_accuracy: 0.710 - ETA: 4:22 - loss: 2.0347 - binary_accuracy: 0.710 - ETA: 4:15 - loss: 2.0321 - binary_accuracy: 0.710 - ETA: 4:09 - loss: 2.0283 - binary_accuracy: 0.710 - ETA: 4:02 - loss: 2.0243 - binary_accuracy: 0.711 - ETA: 3:56 - loss: 2.0194 - binary_accuracy: 0.711 - ETA: 3:49 - loss: 2.0154 - binary_accuracy: 0.712 - ETA: 3:43 - loss: 2.0103 - binary_accuracy: 0.712 - ETA: 3:37 - loss: 2.0051 - binary_accuracy: 0.713 - ETA: 3:30 - loss: 2.0004 - binary_accuracy: 0.713 - ETA: 3:24 - loss: 1.9962 - binary_accuracy: 0.714 - ETA: 3:17 - loss: 1.9917 - binary_accuracy: 0.714 - ETA: 3:11 - loss: 1.9881 - binary_accuracy: 0.714 - ETA: 3:05 - loss: 1.9858 - binary_accuracy: 0.715 - ETA: 2:58 - loss: 1.9831 - binary_accuracy: 0.715 - ETA: 2:52 - loss: 1.9798 - binary_accuracy: 0.715 - ETA: 2:46 - loss: 1.9764 - binary_accuracy: 0.716 - ETA: 2:41 - loss: 1.9733 - binary_accuracy: 0.716 - ETA: 2:34 - loss: 1.9700 - binary_accuracy: 0.717 - ETA: 2:28 - loss: 1.9675 - binary_accuracy: 0.717 - ETA: 2:21 - loss: 1.9652 - binary_accuracy: 0.717 - ETA: 2:15 - loss: 1.9631 - binary_accuracy: 0.718 - ETA: 2:08 - loss: 1.9610 - binary_accuracy: 0.718 - ETA: 2:02 - loss: 1.9593 - binary_accuracy: 0.718 - ETA: 1:56 - loss: 1.9576 - binary_accuracy: 0.718 - ETA: 1:49 - loss: 1.9560 - binary_accuracy: 0.718 - ETA: 1:43 - loss: 1.9545 - binary_accuracy: 0.718 - ETA: 1:37 - loss: 1.9527 - binary_accuracy: 0.718 - ETA: 1:30 - loss: 1.9510 - binary_accuracy: 0.719 - ETA: 1:24 - loss: 1.9496 - binary_accuracy: 0.719 - ETA: 1:17 - loss: 1.9485 - binary_accuracy: 0.719 - ETA: 1:11 - loss: 1.9473 - binary_accuracy: 0.719 - ETA: 1:04 - loss: 1.9460 - binary_accuracy: 0.719 - ETA: 58s - loss: 1.9450 - binary_accuracy: 0.719 - ETA: 51s - loss: 1.9441 - binary_accuracy: 0.71 - ETA: 45s - loss: 1.9436 - binary_accuracy: 0.71 - ETA: 38s - loss: 1.9433 - binary_accuracy: 0.71 - ETA: 32s - loss: 1.9428 - binary_accuracy: 0.71 - ETA: 25s - loss: 1.9424 - binary_accuracy: 0.71 - ETA: 19s - loss: 1.9420 - binary_accuracy: 0.71 - ETA: 12s - loss: 1.9415 - binary_accuracy: 0.71 - ETA: 6s - loss: 1.9410 - binary_accuracy: 0.7198 - ETA: 0s - loss: 1.9405 - binary_accuracy: 0.719 - 468s 7s/step - loss: 1.9400 - binary_accuracy: 0.7199 - val_loss: 2.1879 - val_binary_accuracy: 0.7026\n",
      "Epoch 6/10\n",
      "66/66 [==============================] - ETA: 7:12 - loss: 2.0727 - binary_accuracy: 0.718 - ETA: 7:01 - loss: 2.0061 - binary_accuracy: 0.718 - ETA: 7:14 - loss: 1.9496 - binary_accuracy: 0.722 - ETA: 7:05 - loss: 1.9356 - binary_accuracy: 0.723 - ETA: 7:23 - loss: 1.9063 - binary_accuracy: 0.727 - ETA: 7:11 - loss: 1.8693 - binary_accuracy: 0.732 - ETA: 7:06 - loss: 1.8554 - binary_accuracy: 0.736 - ETA: 7:03 - loss: 1.8511 - binary_accuracy: 0.736 - ETA: 7:03 - loss: 1.8475 - binary_accuracy: 0.737 - ETA: 6:52 - loss: 1.8479 - binary_accuracy: 0.737 - ETA: 6:49 - loss: 1.8506 - binary_accuracy: 0.737 - ETA: 6:42 - loss: 1.8475 - binary_accuracy: 0.737 - ETA: 6:31 - loss: 1.8394 - binary_accuracy: 0.739 - ETA: 6:22 - loss: 1.8292 - binary_accuracy: 0.740 - ETA: 6:12 - loss: 1.8221 - binary_accuracy: 0.741 - ETA: 6:03 - loss: 1.8172 - binary_accuracy: 0.742 - ETA: 5:54 - loss: 1.8132 - binary_accuracy: 0.742 - ETA: 5:46 - loss: 1.8077 - binary_accuracy: 0.743 - ETA: 5:37 - loss: 1.8042 - binary_accuracy: 0.743 - ETA: 5:29 - loss: 1.7998 - binary_accuracy: 0.744 - ETA: 5:21 - loss: 1.7950 - binary_accuracy: 0.745 - ETA: 5:13 - loss: 1.7910 - binary_accuracy: 0.745 - ETA: 5:06 - loss: 1.7874 - binary_accuracy: 0.746 - ETA: 4:58 - loss: 1.7855 - binary_accuracy: 0.746 - ETA: 4:51 - loss: 1.7834 - binary_accuracy: 0.747 - ETA: 4:45 - loss: 1.7831 - binary_accuracy: 0.747 - ETA: 4:40 - loss: 1.7821 - binary_accuracy: 0.747 - ETA: 4:32 - loss: 1.7817 - binary_accuracy: 0.747 - ETA: 4:25 - loss: 1.7810 - binary_accuracy: 0.747 - ETA: 4:17 - loss: 1.7800 - binary_accuracy: 0.747 - ETA: 4:10 - loss: 1.7786 - binary_accuracy: 0.747 - ETA: 4:03 - loss: 1.7778 - binary_accuracy: 0.747 - ETA: 3:56 - loss: 1.7769 - binary_accuracy: 0.747 - ETA: 3:49 - loss: 1.7769 - binary_accuracy: 0.747 - ETA: 3:42 - loss: 1.7774 - binary_accuracy: 0.747 - ETA: 3:34 - loss: 1.7777 - binary_accuracy: 0.747 - ETA: 3:27 - loss: 1.7778 - binary_accuracy: 0.747 - ETA: 3:19 - loss: 1.7778 - binary_accuracy: 0.746 - ETA: 3:12 - loss: 1.7788 - binary_accuracy: 0.746 - ETA: 3:05 - loss: 1.7801 - binary_accuracy: 0.746 - ETA: 2:57 - loss: 1.7826 - binary_accuracy: 0.745 - ETA: 2:50 - loss: 1.7846 - binary_accuracy: 0.745 - ETA: 2:43 - loss: 1.7869 - binary_accuracy: 0.745 - ETA: 2:35 - loss: 1.7892 - binary_accuracy: 0.744 - ETA: 2:28 - loss: 1.7919 - binary_accuracy: 0.744 - ETA: 2:21 - loss: 1.7945 - binary_accuracy: 0.743 - ETA: 2:13 - loss: 1.7970 - binary_accuracy: 0.743 - ETA: 2:06 - loss: 1.7989 - binary_accuracy: 0.743 - ETA: 1:59 - loss: 1.8011 - binary_accuracy: 0.742 - ETA: 1:52 - loss: 1.8030 - binary_accuracy: 0.742 - ETA: 1:45 - loss: 1.8047 - binary_accuracy: 0.742 - ETA: 1:38 - loss: 1.8063 - binary_accuracy: 0.741 - ETA: 1:30 - loss: 1.8076 - binary_accuracy: 0.741 - ETA: 1:23 - loss: 1.8084 - binary_accuracy: 0.741 - ETA: 1:16 - loss: 1.8090 - binary_accuracy: 0.741 - ETA: 1:09 - loss: 1.8100 - binary_accuracy: 0.740 - ETA: 1:02 - loss: 1.8114 - binary_accuracy: 0.740 - ETA: 55s - loss: 1.8127 - binary_accuracy: 0.740 - ETA: 48s - loss: 1.8140 - binary_accuracy: 0.74 - ETA: 41s - loss: 1.8153 - binary_accuracy: 0.73 - ETA: 34s - loss: 1.8166 - binary_accuracy: 0.73 - ETA: 28s - loss: 1.8180 - binary_accuracy: 0.73 - ETA: 21s - loss: 1.8191 - binary_accuracy: 0.73 - ETA: 14s - loss: 1.8201 - binary_accuracy: 0.73 - ETA: 7s - loss: 1.8211 - binary_accuracy: 0.7387 - ETA: 0s - loss: 1.8220 - binary_accuracy: 0.738 - 506s 8s/step - loss: 1.8230 - binary_accuracy: 0.7383 - val_loss: 2.1879 - val_binary_accuracy: 0.7026\n",
      "Epoch 7/10\n",
      "66/66 [==============================] - ETA: 8:02 - loss: 2.3155 - binary_accuracy: 0.718 - ETA: 8:01 - loss: 2.1587 - binary_accuracy: 0.726 - ETA: 7:48 - loss: 2.0685 - binary_accuracy: 0.727 - ETA: 7:36 - loss: 2.0525 - binary_accuracy: 0.725 - ETA: 7:21 - loss: 2.0418 - binary_accuracy: 0.721 - ETA: 7:15 - loss: 2.0422 - binary_accuracy: 0.717 - ETA: 7:04 - loss: 2.0374 - binary_accuracy: 0.716 - ETA: 7:01 - loss: 2.0130 - binary_accuracy: 0.718 - ETA: 6:52 - loss: 2.0045 - binary_accuracy: 0.718 - ETA: 6:42 - loss: 2.0101 - binary_accuracy: 0.717 - ETA: 6:29 - loss: 2.0096 - binary_accuracy: 0.717 - ETA: 6:18 - loss: 2.0022 - binary_accuracy: 0.717 - ETA: 6:08 - loss: 1.9975 - binary_accuracy: 0.717 - ETA: 5:59 - loss: 1.9906 - binary_accuracy: 0.718 - ETA: 5:50 - loss: 1.9844 - binary_accuracy: 0.719 - ETA: 5:41 - loss: 1.9804 - binary_accuracy: 0.720 - ETA: 5:33 - loss: 1.9748 - binary_accuracy: 0.721 - ETA: 5:25 - loss: 1.9691 - binary_accuracy: 0.722 - ETA: 5:17 - loss: 1.9628 - binary_accuracy: 0.723 - ETA: 5:09 - loss: 1.9597 - binary_accuracy: 0.723 - ETA: 5:01 - loss: 1.9551 - binary_accuracy: 0.724 - ETA: 4:54 - loss: 1.9526 - binary_accuracy: 0.725 - ETA: 4:47 - loss: 1.9493 - binary_accuracy: 0.725 - ETA: 4:39 - loss: 1.9474 - binary_accuracy: 0.726 - ETA: 4:32 - loss: 1.9439 - binary_accuracy: 0.726 - ETA: 4:25 - loss: 1.9405 - binary_accuracy: 0.727 - ETA: 4:17 - loss: 1.9372 - binary_accuracy: 0.727 - ETA: 4:10 - loss: 1.9353 - binary_accuracy: 0.728 - ETA: 4:03 - loss: 1.9334 - binary_accuracy: 0.728 - ETA: 3:56 - loss: 1.9316 - binary_accuracy: 0.728 - ETA: 3:50 - loss: 1.9309 - binary_accuracy: 0.728 - ETA: 3:43 - loss: 1.9309 - binary_accuracy: 0.728 - ETA: 3:36 - loss: 1.9308 - binary_accuracy: 0.728 - ETA: 3:29 - loss: 1.9305 - binary_accuracy: 0.728 - ETA: 3:22 - loss: 1.9300 - binary_accuracy: 0.728 - ETA: 3:16 - loss: 1.9293 - binary_accuracy: 0.728 - ETA: 3:09 - loss: 1.9282 - binary_accuracy: 0.729 - ETA: 3:02 - loss: 1.9279 - binary_accuracy: 0.729 - ETA: 2:56 - loss: 1.9278 - binary_accuracy: 0.729 - ETA: 2:49 - loss: 1.9280 - binary_accuracy: 0.729 - ETA: 2:42 - loss: 1.9280 - binary_accuracy: 0.729 - ETA: 2:36 - loss: 1.9286 - binary_accuracy: 0.728 - ETA: 2:29 - loss: 1.9293 - binary_accuracy: 0.728 - ETA: 2:22 - loss: 1.9302 - binary_accuracy: 0.728 - ETA: 2:16 - loss: 1.9306 - binary_accuracy: 0.728 - ETA: 2:09 - loss: 1.9308 - binary_accuracy: 0.728 - ETA: 2:03 - loss: 1.9309 - binary_accuracy: 0.728 - ETA: 1:56 - loss: 1.9315 - binary_accuracy: 0.728 - ETA: 1:50 - loss: 1.9318 - binary_accuracy: 0.728 - ETA: 1:43 - loss: 1.9319 - binary_accuracy: 0.728 - ETA: 1:37 - loss: 1.9316 - binary_accuracy: 0.728 - ETA: 1:30 - loss: 1.9311 - binary_accuracy: 0.728 - ETA: 1:24 - loss: 1.9308 - binary_accuracy: 0.728 - ETA: 1:17 - loss: 1.9305 - binary_accuracy: 0.728 - ETA: 1:11 - loss: 1.9301 - binary_accuracy: 0.728 - ETA: 1:04 - loss: 1.9297 - binary_accuracy: 0.728 - ETA: 58s - loss: 1.9294 - binary_accuracy: 0.728 - ETA: 51s - loss: 1.9290 - binary_accuracy: 0.72 - ETA: 45s - loss: 1.9284 - binary_accuracy: 0.72 - ETA: 38s - loss: 1.9279 - binary_accuracy: 0.72 - ETA: 32s - loss: 1.9274 - binary_accuracy: 0.72 - ETA: 25s - loss: 1.9267 - binary_accuracy: 0.72 - ETA: 19s - loss: 1.9261 - binary_accuracy: 0.72 - ETA: 12s - loss: 1.9258 - binary_accuracy: 0.72 - ETA: 6s - loss: 1.9258 - binary_accuracy: 0.7282 - ETA: 0s - loss: 1.9257 - binary_accuracy: 0.728 - 461s 7s/step - loss: 1.9256 - binary_accuracy: 0.7281 - val_loss: 2.1879 - val_binary_accuracy: 0.7026\n",
      "Epoch 8/10\n",
      "66/66 [==============================] - ETA: 6:44 - loss: 2.9888 - binary_accuracy: 0.531 - ETA: 6:59 - loss: 2.8541 - binary_accuracy: 0.562 - ETA: 6:42 - loss: 2.7059 - binary_accuracy: 0.586 - ETA: 6:37 - loss: 2.5616 - binary_accuracy: 0.612 - ETA: 6:29 - loss: 2.4795 - binary_accuracy: 0.629 - ETA: 6:20 - loss: 2.4119 - binary_accuracy: 0.643 - ETA: 6:16 - loss: 2.3772 - binary_accuracy: 0.652 - ETA: 6:08 - loss: 2.3386 - binary_accuracy: 0.661 - ETA: 6:02 - loss: 2.3026 - binary_accuracy: 0.668 - ETA: 5:55 - loss: 2.2784 - binary_accuracy: 0.674 - ETA: 5:48 - loss: 2.2501 - binary_accuracy: 0.679 - ETA: 5:42 - loss: 2.2276 - binary_accuracy: 0.684 - ETA: 5:35 - loss: 2.2009 - binary_accuracy: 0.689 - ETA: 5:29 - loss: 2.1791 - binary_accuracy: 0.693 - ETA: 5:23 - loss: 2.1582 - binary_accuracy: 0.696 - ETA: 5:16 - loss: 2.1400 - binary_accuracy: 0.699 - ETA: 5:10 - loss: 2.1223 - binary_accuracy: 0.702 - ETA: 5:03 - loss: 2.1039 - binary_accuracy: 0.704 - ETA: 4:56 - loss: 2.0862 - binary_accuracy: 0.707 - ETA: 4:50 - loss: 2.0705 - binary_accuracy: 0.709 - ETA: 4:43 - loss: 2.0568 - binary_accuracy: 0.711 - ETA: 4:37 - loss: 2.0446 - binary_accuracy: 0.712 - ETA: 4:31 - loss: 2.0320 - binary_accuracy: 0.714 - ETA: 4:24 - loss: 2.0205 - binary_accuracy: 0.715 - ETA: 4:18 - loss: 2.0109 - binary_accuracy: 0.716 - ETA: 4:12 - loss: 2.0026 - binary_accuracy: 0.717 - ETA: 4:06 - loss: 1.9955 - binary_accuracy: 0.718 - ETA: 4:00 - loss: 1.9888 - binary_accuracy: 0.719 - ETA: 3:53 - loss: 1.9830 - binary_accuracy: 0.720 - ETA: 3:47 - loss: 1.9769 - binary_accuracy: 0.720 - ETA: 3:41 - loss: 1.9720 - binary_accuracy: 0.721 - ETA: 3:35 - loss: 1.9684 - binary_accuracy: 0.721 - ETA: 3:28 - loss: 1.9655 - binary_accuracy: 0.722 - ETA: 3:22 - loss: 1.9627 - binary_accuracy: 0.722 - ETA: 3:15 - loss: 1.9602 - binary_accuracy: 0.722 - ETA: 3:09 - loss: 1.9579 - binary_accuracy: 0.722 - ETA: 3:03 - loss: 1.9556 - binary_accuracy: 0.722 - ETA: 2:56 - loss: 1.9534 - binary_accuracy: 0.722 - ETA: 2:50 - loss: 1.9514 - binary_accuracy: 0.723 - ETA: 2:44 - loss: 1.9492 - binary_accuracy: 0.723 - ETA: 2:37 - loss: 1.9467 - binary_accuracy: 0.723 - ETA: 2:31 - loss: 1.9444 - binary_accuracy: 0.723 - ETA: 2:25 - loss: 1.9424 - binary_accuracy: 0.723 - ETA: 2:18 - loss: 1.9405 - binary_accuracy: 0.723 - ETA: 2:12 - loss: 1.9385 - binary_accuracy: 0.724 - ETA: 2:06 - loss: 1.9367 - binary_accuracy: 0.724 - ETA: 1:59 - loss: 1.9349 - binary_accuracy: 0.724 - ETA: 1:53 - loss: 1.9332 - binary_accuracy: 0.724 - ETA: 1:47 - loss: 1.9318 - binary_accuracy: 0.724 - ETA: 1:40 - loss: 1.9303 - binary_accuracy: 0.724 - ETA: 1:34 - loss: 1.9292 - binary_accuracy: 0.724 - ETA: 1:28 - loss: 1.9281 - binary_accuracy: 0.724 - ETA: 1:22 - loss: 1.9274 - binary_accuracy: 0.724 - ETA: 1:15 - loss: 1.9269 - binary_accuracy: 0.724 - ETA: 1:09 - loss: 1.9265 - binary_accuracy: 0.724 - ETA: 1:03 - loss: 1.9261 - binary_accuracy: 0.724 - ETA: 56s - loss: 1.9259 - binary_accuracy: 0.724 - ETA: 50s - loss: 1.9259 - binary_accuracy: 0.72 - ETA: 44s - loss: 1.9259 - binary_accuracy: 0.72 - ETA: 37s - loss: 1.9258 - binary_accuracy: 0.72 - ETA: 31s - loss: 1.9257 - binary_accuracy: 0.72 - ETA: 25s - loss: 1.9253 - binary_accuracy: 0.72 - ETA: 18s - loss: 1.9249 - binary_accuracy: 0.72 - ETA: 12s - loss: 1.9246 - binary_accuracy: 0.72 - ETA: 6s - loss: 1.9243 - binary_accuracy: 0.7242 - ETA: 0s - loss: 1.9240 - binary_accuracy: 0.724 - 449s 7s/step - loss: 1.9237 - binary_accuracy: 0.7242 - val_loss: 2.1879 - val_binary_accuracy: 0.7026\n",
      "Epoch 9/10\n"
     ]
    },
    {
     "name": "stdout",
     "output_type": "stream",
     "text": [
      "66/66 [==============================] - ETA: 6:45 - loss: 2.2825 - binary_accuracy: 0.718 - ETA: 6:54 - loss: 2.1761 - binary_accuracy: 0.726 - ETA: 6:39 - loss: 2.1666 - binary_accuracy: 0.720 - ETA: 6:36 - loss: 2.1236 - binary_accuracy: 0.722 - ETA: 6:26 - loss: 2.1281 - binary_accuracy: 0.717 - ETA: 6:17 - loss: 2.1312 - binary_accuracy: 0.715 - ETA: 6:13 - loss: 2.1377 - binary_accuracy: 0.713 - ETA: 6:05 - loss: 2.1359 - binary_accuracy: 0.711 - ETA: 5:59 - loss: 2.1338 - binary_accuracy: 0.710 - ETA: 5:52 - loss: 2.1320 - binary_accuracy: 0.710 - ETA: 5:45 - loss: 2.1290 - binary_accuracy: 0.709 - ETA: 5:40 - loss: 2.1219 - binary_accuracy: 0.709 - ETA: 5:34 - loss: 2.1187 - binary_accuracy: 0.709 - ETA: 5:27 - loss: 2.1106 - binary_accuracy: 0.710 - ETA: 5:21 - loss: 2.1024 - binary_accuracy: 0.711 - ETA: 5:14 - loss: 2.0952 - binary_accuracy: 0.711 - ETA: 5:09 - loss: 2.0847 - binary_accuracy: 0.712 - ETA: 5:02 - loss: 2.0764 - binary_accuracy: 0.713 - ETA: 4:56 - loss: 2.0677 - binary_accuracy: 0.713 - ETA: 4:50 - loss: 2.0596 - binary_accuracy: 0.714 - ETA: 4:43 - loss: 2.0521 - binary_accuracy: 0.714 - ETA: 4:37 - loss: 2.0458 - binary_accuracy: 0.715 - ETA: 4:30 - loss: 2.0389 - binary_accuracy: 0.715 - ETA: 4:24 - loss: 2.0332 - binary_accuracy: 0.716 - ETA: 4:18 - loss: 2.0287 - binary_accuracy: 0.716 - ETA: 4:11 - loss: 2.0228 - binary_accuracy: 0.717 - ETA: 4:05 - loss: 2.0167 - binary_accuracy: 0.717 - ETA: 3:59 - loss: 2.0098 - binary_accuracy: 0.718 - ETA: 3:52 - loss: 2.0032 - binary_accuracy: 0.718 - ETA: 3:47 - loss: 1.9973 - binary_accuracy: 0.719 - ETA: 3:42 - loss: 1.9912 - binary_accuracy: 0.720 - ETA: 3:36 - loss: 1.9860 - binary_accuracy: 0.720 - ETA: 3:30 - loss: 1.9813 - binary_accuracy: 0.721 - ETA: 3:24 - loss: 1.9771 - binary_accuracy: 0.721 - ETA: 3:18 - loss: 1.9728 - binary_accuracy: 0.722 - ETA: 3:12 - loss: 1.9696 - binary_accuracy: 0.722 - ETA: 3:06 - loss: 1.9666 - binary_accuracy: 0.722 - ETA: 3:00 - loss: 1.9630 - binary_accuracy: 0.723 - ETA: 2:54 - loss: 1.9599 - binary_accuracy: 0.723 - ETA: 2:47 - loss: 1.9575 - binary_accuracy: 0.723 - ETA: 2:41 - loss: 1.9554 - binary_accuracy: 0.723 - ETA: 2:35 - loss: 1.9535 - binary_accuracy: 0.723 - ETA: 2:28 - loss: 1.9525 - binary_accuracy: 0.723 - ETA: 2:22 - loss: 1.9512 - binary_accuracy: 0.723 - ETA: 2:16 - loss: 1.9496 - binary_accuracy: 0.724 - ETA: 2:10 - loss: 1.9483 - binary_accuracy: 0.724 - ETA: 2:03 - loss: 1.9479 - binary_accuracy: 0.724 - ETA: 1:57 - loss: 1.9475 - binary_accuracy: 0.724 - ETA: 1:50 - loss: 1.9470 - binary_accuracy: 0.724 - ETA: 1:44 - loss: 1.9467 - binary_accuracy: 0.723 - ETA: 1:38 - loss: 1.9464 - binary_accuracy: 0.723 - ETA: 1:31 - loss: 1.9462 - binary_accuracy: 0.723 - ETA: 1:25 - loss: 1.9457 - binary_accuracy: 0.723 - ETA: 1:18 - loss: 1.9453 - binary_accuracy: 0.723 - ETA: 1:12 - loss: 1.9446 - binary_accuracy: 0.723 - ETA: 1:05 - loss: 1.9439 - binary_accuracy: 0.723 - ETA: 59s - loss: 1.9430 - binary_accuracy: 0.723 - ETA: 52s - loss: 1.9421 - binary_accuracy: 0.72 - ETA: 46s - loss: 1.9415 - binary_accuracy: 0.72 - ETA: 39s - loss: 1.9409 - binary_accuracy: 0.72 - ETA: 33s - loss: 1.9405 - binary_accuracy: 0.72 - ETA: 26s - loss: 1.9400 - binary_accuracy: 0.72 - ETA: 19s - loss: 1.9395 - binary_accuracy: 0.72 - ETA: 13s - loss: 1.9387 - binary_accuracy: 0.72 - ETA: 6s - loss: 1.9382 - binary_accuracy: 0.7238 - ETA: 0s - loss: 1.9377 - binary_accuracy: 0.723 - 473s 7s/step - loss: 1.9372 - binary_accuracy: 0.7238 - val_loss: 2.1879 - val_binary_accuracy: 0.7026\n",
      "Epoch 10/10\n",
      "66/66 [==============================] - ETA: 7:14 - loss: 0.8805 - binary_accuracy: 0.843 - ETA: 7:10 - loss: 1.2998 - binary_accuracy: 0.789 - ETA: 7:08 - loss: 1.5097 - binary_accuracy: 0.765 - ETA: 6:59 - loss: 1.5882 - binary_accuracy: 0.757 - ETA: 6:56 - loss: 1.6364 - binary_accuracy: 0.752 - ETA: 6:46 - loss: 1.6818 - binary_accuracy: 0.746 - ETA: 6:40 - loss: 1.7126 - binary_accuracy: 0.742 - ETA: 6:33 - loss: 1.7284 - binary_accuracy: 0.741 - ETA: 6:25 - loss: 1.7391 - binary_accuracy: 0.740 - ETA: 6:19 - loss: 1.7529 - binary_accuracy: 0.739 - ETA: 6:12 - loss: 1.7619 - binary_accuracy: 0.739 - ETA: 6:06 - loss: 1.7746 - binary_accuracy: 0.738 - ETA: 5:58 - loss: 1.7817 - binary_accuracy: 0.737 - ETA: 5:52 - loss: 1.7908 - binary_accuracy: 0.736 - ETA: 5:45 - loss: 1.7996 - binary_accuracy: 0.735 - ETA: 5:38 - loss: 1.8062 - binary_accuracy: 0.735 - ETA: 5:32 - loss: 1.8151 - binary_accuracy: 0.734 - ETA: 5:25 - loss: 1.8236 - binary_accuracy: 0.733 - ETA: 5:18 - loss: 1.8325 - binary_accuracy: 0.732 - ETA: 5:12 - loss: 1.8405 - binary_accuracy: 0.731 - ETA: 5:06 - loss: 1.8492 - binary_accuracy: 0.730 - ETA: 4:59 - loss: 1.8561 - binary_accuracy: 0.729 - ETA: 4:52 - loss: 1.8609 - binary_accuracy: 0.729 - ETA: 4:46 - loss: 1.8635 - binary_accuracy: 0.729 - ETA: 4:38 - loss: 1.8668 - binary_accuracy: 0.728 - ETA: 4:32 - loss: 1.8713 - binary_accuracy: 0.728 - ETA: 4:25 - loss: 1.8748 - binary_accuracy: 0.728 - ETA: 4:18 - loss: 1.8774 - binary_accuracy: 0.728 - ETA: 4:11 - loss: 1.8789 - binary_accuracy: 0.728 - ETA: 4:04 - loss: 1.8800 - binary_accuracy: 0.728 - ETA: 3:58 - loss: 1.8818 - binary_accuracy: 0.728 - ETA: 3:51 - loss: 1.8835 - binary_accuracy: 0.728 - ETA: 3:44 - loss: 1.8844 - binary_accuracy: 0.728 - ETA: 3:37 - loss: 1.8855 - binary_accuracy: 0.728 - ETA: 3:30 - loss: 1.8870 - binary_accuracy: 0.728 - ETA: 3:23 - loss: 1.8884 - binary_accuracy: 0.728 - ETA: 3:17 - loss: 1.8896 - binary_accuracy: 0.728 - ETA: 3:10 - loss: 1.8907 - binary_accuracy: 0.728 - ETA: 3:03 - loss: 1.8915 - binary_accuracy: 0.728 - ETA: 2:57 - loss: 1.8921 - binary_accuracy: 0.728 - ETA: 2:50 - loss: 1.8923 - binary_accuracy: 0.728 - ETA: 2:43 - loss: 1.8922 - binary_accuracy: 0.728 - ETA: 2:36 - loss: 1.8920 - binary_accuracy: 0.728 - ETA: 2:29 - loss: 1.8916 - binary_accuracy: 0.728 - ETA: 2:23 - loss: 1.8912 - binary_accuracy: 0.728 - ETA: 2:16 - loss: 1.8907 - binary_accuracy: 0.728 - ETA: 2:09 - loss: 1.8907 - binary_accuracy: 0.728 - ETA: 2:02 - loss: 1.8909 - binary_accuracy: 0.728 - ETA: 1:56 - loss: 1.8910 - binary_accuracy: 0.728 - ETA: 1:49 - loss: 1.8909 - binary_accuracy: 0.728 - ETA: 1:42 - loss: 1.8909 - binary_accuracy: 0.728 - ETA: 1:35 - loss: 1.8908 - binary_accuracy: 0.728 - ETA: 1:28 - loss: 1.8911 - binary_accuracy: 0.728 - ETA: 1:21 - loss: 1.8913 - binary_accuracy: 0.728 - ETA: 1:14 - loss: 1.8918 - binary_accuracy: 0.728 - ETA: 1:07 - loss: 1.8923 - binary_accuracy: 0.728 - ETA: 1:01 - loss: 1.8925 - binary_accuracy: 0.728 - ETA: 54s - loss: 1.8927 - binary_accuracy: 0.728 - ETA: 47s - loss: 1.8928 - binary_accuracy: 0.72 - ETA: 40s - loss: 1.8932 - binary_accuracy: 0.72 - ETA: 34s - loss: 1.8938 - binary_accuracy: 0.72 - ETA: 27s - loss: 1.8941 - binary_accuracy: 0.72 - ETA: 20s - loss: 1.8944 - binary_accuracy: 0.72 - ETA: 13s - loss: 1.8946 - binary_accuracy: 0.72 - ETA: 6s - loss: 1.8946 - binary_accuracy: 0.7278 - ETA: 0s - loss: 1.8947 - binary_accuracy: 0.727 - 487s 7s/step - loss: 1.8948 - binary_accuracy: 0.7277 - val_loss: 2.1879 - val_binary_accuracy: 0.7026\n"
     ]
    }
   ],
   "source": [
    "model.compile(optimizer=keras.optimizers.Adam(),\n",
    "              loss=keras.losses.BinaryCrossentropy(from_logits=True),\n",
    "              metrics=[keras.metrics.BinaryAccuracy()])\n",
    "history = model.fit(x = valid_inputs, y = valid_outputs, epochs=10, validation_split = .1, shuffle=True)\n"
   ]
  },
  {
   "cell_type": "code",
   "execution_count": 19,
   "metadata": {},
   "outputs": [
    {
     "name": "stderr",
     "output_type": "stream",
     "text": [
      "WARNING:absl:Found untraced functions such as restored_function_body, restored_function_body, restored_function_body, restored_function_body, restored_function_body while saving (showing 5 of 1065). These functions will not be directly callable after loading.\n",
      "WARNING:absl:Found untraced functions such as restored_function_body, restored_function_body, restored_function_body, restored_function_body, restored_function_body while saving (showing 5 of 1065). These functions will not be directly callable after loading.\n"
     ]
    },
    {
     "name": "stdout",
     "output_type": "stream",
     "text": [
      "INFO:tensorflow:Assets written to: 1layertransferlearn_10epoch_preprocessed\\assets\n"
     ]
    },
    {
     "name": "stderr",
     "output_type": "stream",
     "text": [
      "INFO:tensorflow:Assets written to: 1layertransferlearn_10epoch_preprocessed\\assets\n"
     ]
    }
   ],
   "source": [
    "model.save(\"1layertransferlearn_10epoch_preprocessed\")"
   ]
  },
  {
   "cell_type": "code",
   "execution_count": 23,
   "metadata": {},
   "outputs": [
    {
     "name": "stderr",
     "output_type": "stream",
     "text": [
      "WARNING:absl:Found untraced functions such as restored_function_body, restored_function_body, restored_function_body, restored_function_body, restored_function_body while saving (showing 5 of 1065). These functions will not be directly callable after loading.\n",
      "WARNING:absl:Found untraced functions such as restored_function_body, restored_function_body, restored_function_body, restored_function_body, restored_function_body while saving (showing 5 of 1065). These functions will not be directly callable after loading.\n"
     ]
    },
    {
     "name": "stdout",
     "output_type": "stream",
     "text": [
      "INFO:tensorflow:Assets written to: 4layertransferlearn_20epoch_model\\assets\n"
     ]
    },
    {
     "name": "stderr",
     "output_type": "stream",
     "text": [
      "INFO:tensorflow:Assets written to: 4layertransferlearn_20epoch_model\\assets\n"
     ]
    }
   ],
   "source": [
    "model.save(\"4layertransferlearn_20epoch_model\")"
   ]
  },
  {
   "cell_type": "code",
   "execution_count": 34,
   "metadata": {},
   "outputs": [
    {
     "name": "stderr",
     "output_type": "stream",
     "text": [
      "WARNING:absl:Found untraced functions such as restored_function_body, restored_function_body, restored_function_body, restored_function_body, restored_function_body while saving (showing 5 of 1065). These functions will not be directly callable after loading.\n",
      "WARNING:absl:Found untraced functions such as restored_function_body, restored_function_body, restored_function_body, restored_function_body, restored_function_body while saving (showing 5 of 1065). These functions will not be directly callable after loading.\n"
     ]
    },
    {
     "name": "stdout",
     "output_type": "stream",
     "text": [
      "INFO:tensorflow:Assets written to: 3layertransferlearn_10epoch_model_fullpreprocess\\assets\n"
     ]
    },
    {
     "name": "stderr",
     "output_type": "stream",
     "text": [
      "INFO:tensorflow:Assets written to: 3layertransferlearn_10epoch_model_fullpreprocess\\assets\n"
     ]
    }
   ],
   "source": [
    "model.save(\"3layertransferlearn_10epoch_model_fullpreprocess\")"
   ]
  },
  {
   "cell_type": "code",
   "execution_count": 26,
   "metadata": {},
   "outputs": [
    {
     "name": "stderr",
     "output_type": "stream",
     "text": [
      "WARNING:absl:Found untraced functions such as restored_function_body, restored_function_body, restored_function_body, restored_function_body, restored_function_body while saving (showing 5 of 1065). These functions will not be directly callable after loading.\n",
      "WARNING:absl:Found untraced functions such as restored_function_body, restored_function_body, restored_function_body, restored_function_body, restored_function_body while saving (showing 5 of 1065). These functions will not be directly callable after loading.\n"
     ]
    },
    {
     "name": "stdout",
     "output_type": "stream",
     "text": [
      "INFO:tensorflow:Assets written to: 3layertransferlearn_10epoch_model_fullpreprocess_v2\\assets\n"
     ]
    },
    {
     "name": "stderr",
     "output_type": "stream",
     "text": [
      "INFO:tensorflow:Assets written to: 3layertransferlearn_10epoch_model_fullpreprocess_v2\\assets\n"
     ]
    }
   ],
   "source": [
    "model.save(\"3layertransferlearn_10epoch_model_fullpreprocess_v2\")"
   ]
  },
  {
   "cell_type": "code",
   "execution_count": 14,
   "metadata": {},
   "outputs": [],
   "source": [
    "model = keras.models.load_model(\"3layertransferlearn_10epoch_model_fullpreprocess\")"
   ]
  },
  {
   "cell_type": "code",
   "execution_count": 27,
   "metadata": {},
   "outputs": [
    {
     "data": {
      "image/png": "[encoded data removed]",
      "text/plain": [
       "<Figure size 432x288 with 1 Axes>"
      ]
     },
     "metadata": {
      "needs_background": "light"
     },
     "output_type": "display_data"
    }
   ],
   "source": [
    "plt.plot(history.history['binary_accuracy'])\n",
    "plt.plot(history.history['val_binary_accuracy'])\n",
    "plt.title('Transfer Learning model loss')\n",
    "plt.ylabel('Binary Accuracy')\n",
    "plt.xlabel('Epoch')\n",
    "plt.legend(['train', 'validation'], loc='upper left')\n",
    "plt.show()"
   ]
  },
  {
   "cell_type": "code",
   "execution_count": 28,
   "metadata": {},
   "outputs": [],
   "source": [
    "preds = model.predict(test_inputs)"
   ]
  },
  {
   "cell_type": "code",
   "execution_count": 21,
   "metadata": {},
   "outputs": [
    {
     "name": "stdout",
     "output_type": "stream",
     "text": [
      "[[0.99998647]\n",
      " [0.9999872 ]\n",
      " [0.99998295]\n",
      " ...\n",
      " [0.16755015]\n",
      " [0.99998045]\n",
      " [0.9999796 ]]\n",
      "        id                                               text\n",
      "2215  2216  If you are asian in the kitchen and african in...\n",
      "2582  2583  Why is there only a stairway to heaven but a h...\n",
      "1662  1663  I once dated a girl with a twin people asked m...\n",
      "3027  3028  There are people out their happier with less t...\n",
      "4343  4344  One zebra says to the other, \"i am going to ch...\n",
      "2215    1\n",
      "2582    1\n",
      "1662    1\n",
      "3027    0\n",
      "4343    1\n",
      "       ..\n",
      "1079    0\n",
      "7979    1\n",
      "1115    0\n",
      "6093    1\n",
      "6832    1\n",
      "Name: is_humor, Length: 1600, dtype: int64\n"
     ]
    }
   ],
   "source": [
    "print(preds)\n",
    "print(X_test.head())\n",
    "print(y_test)"
   ]
  },
  {
   "cell_type": "code",
   "execution_count": 29,
   "metadata": {},
   "outputs": [],
   "source": [
    "outputs = compute_output_arrays(y_test.to_frame(), ['is_humor'])"
   ]
  },
  {
   "cell_type": "code",
   "execution_count": 30,
   "metadata": {},
   "outputs": [
    {
     "name": "stdout",
     "output_type": "stream",
     "text": [
      "(2314, 1) (579, 1)\n",
      "================== \n",
      "mean_absolute_error  : 0.2673404402310565\n",
      "mean_squared_error  : 0.25609044898018485\n",
      "r2 score  : -0.19905053361125913\n"
     ]
    },
    {
     "data": {
      "text/plain": [
       "0.25609044898018485"
      ]
     },
     "execution_count": 30,
     "metadata": {},
     "output_type": "execute_result"
    }
   ],
   "source": [
    "print(valid_outputs.shape, preds.shape)\n",
    "print_evaluation_metrics(np.array(outputs), np.array(preds), '', True)"
   ]
  },
  {
   "cell_type": "code",
   "execution_count": 31,
   "metadata": {},
   "outputs": [
    {
     "name": "stderr",
     "output_type": "stream",
     "text": [
      "C:\\Users\\lwing\\Downloads\\College\\Spring 2020\\M 340L\\lib\\site-packages\\ipykernel_launcher.py:2: SettingWithCopyWarning: \n",
      "A value is trying to be set on a copy of a slice from a DataFrame.\n",
      "Try using .loc[row_indexer,col_indexer] = value instead\n",
      "\n",
      "See the caveats in the documentation: http://pandas.pydata.org/pandas-docs/stable/user_guide/indexing.html#returning-a-view-versus-a-copy\n",
      "  \n"
     ]
    },
    {
     "name": "stdout",
     "output_type": "stream",
     "text": [
      "================== SPLIT on 0.1\n",
      "f1_score  : 0.8289611752360966\n",
      "[[ 21 158]\n",
      " [  5 395]]\n",
      "Acc 0.7184801381692574 Prec 0.7142857142857143 Rec 0.9875 F1 0.8289611752360966\n"
     ]
    },
    {
     "name": "stderr",
     "output_type": "stream",
     "text": [
      "C:\\Users\\lwing\\Downloads\\College\\Spring 2020\\M 340L\\lib\\site-packages\\ipykernel_launcher.py:2: SettingWithCopyWarning: \n",
      "A value is trying to be set on a copy of a slice from a DataFrame.\n",
      "Try using .loc[row_indexer,col_indexer] = value instead\n",
      "\n",
      "See the caveats in the documentation: http://pandas.pydata.org/pandas-docs/stable/user_guide/indexing.html#returning-a-view-versus-a-copy\n",
      "  \n"
     ]
    },
    {
     "name": "stdout",
     "output_type": "stream",
     "text": [
      "================== SPLIT on 0.2\n",
      "f1_score  : 0.8329809725158562\n",
      "[[ 27 152]\n",
      " [  6 394]]\n",
      "Acc 0.7271157167530224 Prec 0.7216117216117216 Rec 0.985 F1 0.8329809725158562\n"
     ]
    },
    {
     "name": "stderr",
     "output_type": "stream",
     "text": [
      "C:\\Users\\lwing\\Downloads\\College\\Spring 2020\\M 340L\\lib\\site-packages\\ipykernel_launcher.py:2: SettingWithCopyWarning: \n",
      "A value is trying to be set on a copy of a slice from a DataFrame.\n",
      "Try using .loc[row_indexer,col_indexer] = value instead\n",
      "\n",
      "See the caveats in the documentation: http://pandas.pydata.org/pandas-docs/stable/user_guide/indexing.html#returning-a-view-versus-a-copy\n",
      "  \n"
     ]
    },
    {
     "name": "stdout",
     "output_type": "stream",
     "text": [
      "================== SPLIT on 0.30000000000000004\n",
      "f1_score  : 0.8356309650053022\n",
      "[[ 30 149]\n",
      " [  6 394]]\n",
      "Acc 0.7322970639032815 Prec 0.7255985267034991 Rec 0.985 F1 0.8356309650053022\n"
     ]
    },
    {
     "name": "stderr",
     "output_type": "stream",
     "text": [
      "C:\\Users\\lwing\\Downloads\\College\\Spring 2020\\M 340L\\lib\\site-packages\\ipykernel_launcher.py:2: SettingWithCopyWarning: \n",
      "A value is trying to be set on a copy of a slice from a DataFrame.\n",
      "Try using .loc[row_indexer,col_indexer] = value instead\n",
      "\n",
      "See the caveats in the documentation: http://pandas.pydata.org/pandas-docs/stable/user_guide/indexing.html#returning-a-view-versus-a-copy\n",
      "  \n"
     ]
    },
    {
     "name": "stdout",
     "output_type": "stream",
     "text": [
      "================== SPLIT on 0.4\n",
      "f1_score  : 0.8343949044585988\n",
      "[[ 30 149]\n",
      " [  7 393]]\n",
      "Acc 0.7305699481865285 Prec 0.7250922509225092 Rec 0.9825 F1 0.8343949044585988\n"
     ]
    },
    {
     "name": "stderr",
     "output_type": "stream",
     "text": [
      "C:\\Users\\lwing\\Downloads\\College\\Spring 2020\\M 340L\\lib\\site-packages\\ipykernel_launcher.py:2: SettingWithCopyWarning: \n",
      "A value is trying to be set on a copy of a slice from a DataFrame.\n",
      "Try using .loc[row_indexer,col_indexer] = value instead\n",
      "\n",
      "See the caveats in the documentation: http://pandas.pydata.org/pandas-docs/stable/user_guide/indexing.html#returning-a-view-versus-a-copy\n",
      "  \n"
     ]
    },
    {
     "name": "stdout",
     "output_type": "stream",
     "text": [
      "================== SPLIT on 0.5\n",
      "f1_score  : 0.8361702127659575\n",
      "[[ 32 147]\n",
      " [  7 393]]\n",
      "Acc 0.7340241796200345 Prec 0.7277777777777777 Rec 0.9825 F1 0.8361702127659575\n"
     ]
    },
    {
     "name": "stderr",
     "output_type": "stream",
     "text": [
      "C:\\Users\\lwing\\Downloads\\College\\Spring 2020\\M 340L\\lib\\site-packages\\ipykernel_launcher.py:2: SettingWithCopyWarning: \n",
      "A value is trying to be set on a copy of a slice from a DataFrame.\n",
      "Try using .loc[row_indexer,col_indexer] = value instead\n",
      "\n",
      "See the caveats in the documentation: http://pandas.pydata.org/pandas-docs/stable/user_guide/indexing.html#returning-a-view-versus-a-copy\n",
      "  \n"
     ]
    },
    {
     "name": "stdout",
     "output_type": "stream",
     "text": [
      "================== SPLIT on 0.6\n",
      "f1_score  : 0.837953091684435\n",
      "[[ 34 145]\n",
      " [  7 393]]\n",
      "Acc 0.7374784110535406 Prec 0.7304832713754646 Rec 0.9825 F1 0.837953091684435\n"
     ]
    },
    {
     "name": "stderr",
     "output_type": "stream",
     "text": [
      "C:\\Users\\lwing\\Downloads\\College\\Spring 2020\\M 340L\\lib\\site-packages\\ipykernel_launcher.py:2: SettingWithCopyWarning: \n",
      "A value is trying to be set on a copy of a slice from a DataFrame.\n",
      "Try using .loc[row_indexer,col_indexer] = value instead\n",
      "\n",
      "See the caveats in the documentation: http://pandas.pydata.org/pandas-docs/stable/user_guide/indexing.html#returning-a-view-versus-a-copy\n",
      "  \n"
     ]
    },
    {
     "name": "stdout",
     "output_type": "stream",
     "text": [
      "================== SPLIT on 0.7000000000000001\n",
      "f1_score  : 0.8385026737967914\n",
      "[[ 36 143]\n",
      " [  8 392]]\n",
      "Acc 0.7392055267702936 Prec 0.7327102803738318 Rec 0.98 F1 0.8385026737967914\n"
     ]
    },
    {
     "name": "stderr",
     "output_type": "stream",
     "text": [
      "C:\\Users\\lwing\\Downloads\\College\\Spring 2020\\M 340L\\lib\\site-packages\\ipykernel_launcher.py:2: SettingWithCopyWarning: \n",
      "A value is trying to be set on a copy of a slice from a DataFrame.\n",
      "Try using .loc[row_indexer,col_indexer] = value instead\n",
      "\n",
      "See the caveats in the documentation: http://pandas.pydata.org/pandas-docs/stable/user_guide/indexing.html#returning-a-view-versus-a-copy\n",
      "  \n"
     ]
    },
    {
     "name": "stdout",
     "output_type": "stream",
     "text": [
      "================== SPLIT on 0.8\n",
      "f1_score  : 0.8344086021505376\n",
      "[[ 37 142]\n",
      " [ 12 388]]\n",
      "Acc 0.7340241796200345 Prec 0.7320754716981132 Rec 0.97 F1 0.8344086021505376\n"
     ]
    },
    {
     "name": "stderr",
     "output_type": "stream",
     "text": [
      "C:\\Users\\lwing\\Downloads\\College\\Spring 2020\\M 340L\\lib\\site-packages\\ipykernel_launcher.py:2: SettingWithCopyWarning: \n",
      "A value is trying to be set on a copy of a slice from a DataFrame.\n",
      "Try using .loc[row_indexer,col_indexer] = value instead\n",
      "\n",
      "See the caveats in the documentation: http://pandas.pydata.org/pandas-docs/stable/user_guide/indexing.html#returning-a-view-versus-a-copy\n",
      "  \n"
     ]
    },
    {
     "name": "stdout",
     "output_type": "stream",
     "text": [
      "================== SPLIT on 0.9\n",
      "f1_score  : 0.8382193268186753\n",
      "[[ 44 135]\n",
      " [ 14 386]]\n",
      "Acc 0.7426597582037997 Prec 0.7408829174664108 Rec 0.965 F1 0.8382193268186753\n"
     ]
    }
   ],
   "source": [
    "for split in np.arange(0.1, 0.99, 0.1).tolist():\n",
    "    X_test['pred_bi'] = (preds > split)\n",
    "\n",
    "    print_evaluation_metrics(y_test.to_frame()['is_humor'], X_test['pred_bi'], '', False, 'SPLIT on '+str(split))"
   ]
  },
  {
   "cell_type": "code",
   "execution_count": null,
   "metadata": {},
   "outputs": [],
   "source": [
    "#Unrelated to paper; just trying out BERT tokenizer on william's model"
   ]
  },
  {
   "cell_type": "code",
   "execution_count": 58,
   "metadata": {},
   "outputs": [],
   "source": [
    "import pandas as pd\n",
    "import numpy as np\n",
    "import seaborn as sns\n",
    "from sklearn.feature_extraction.text import CountVectorizer, TfidfVectorizer\n",
    "from sklearn.model_selection import train_test_split\n",
    "from sklearn.preprocessing import MinMaxScaler\n",
    "from sklearn.pipeline import Pipeline\n",
    "from nltk.tokenize import RegexpTokenizer\n",
    "from nltk.corpus import stopwords\n",
    "import matplotlib.pyplot as plt\n",
    "from xgboost import XGBClassifier, XGBRegressor\n",
    "from lightgbm import LGBMClassifier, LGBMRegressor\n",
    "from sklearn.naive_bayes import MultinomialNB, ComplementNB, GaussianNB, BernoulliNB\n",
    "from sklearn.linear_model import LogisticRegression, SGDClassifier\n",
    "from sklearn.svm import LinearSVC\n",
    "from sklearn import metrics\n",
    "from gensim import utils\n",
    "from gensim.models import Doc2Vec\n",
    "from gensim.models.doc2vec import TaggedDocument\n",
    "from nltk.corpus import stopwords\n",
    "from catboost import CatBoostClassifier"
   ]
  },
  {
   "cell_type": "code",
   "execution_count": 42,
   "metadata": {},
   "outputs": [],
   "source": [
    "MODEL_TYPE = 'bert-base-uncased'\n",
    "token = BertTokenizer.from_pretrained(MODEL_TYPE)"
   ]
  },
  {
   "cell_type": "code",
   "execution_count": 48,
   "metadata": {},
   "outputs": [
    {
     "data": {
      "text/html": [
       "<div>\n",
       "<style scoped>\n",
       "    .dataframe tbody tr th:only-of-type {\n",
       "        vertical-align: middle;\n",
       "    }\n",
       "\n",
       "    .dataframe tbody tr th {\n",
       "        vertical-align: top;\n",
       "    }\n",
       "\n",
       "    .dataframe thead th {\n",
       "        text-align: right;\n",
       "    }\n",
       "</style>\n",
       "<table border=\"1\" class=\"dataframe\">\n",
       "  <thead>\n",
       "    <tr style=\"text-align: right;\">\n",
       "      <th></th>\n",
       "      <th>is_humor</th>\n",
       "    </tr>\n",
       "  </thead>\n",
       "  <tbody>\n",
       "    <tr>\n",
       "      <td>0</td>\n",
       "      <td>1</td>\n",
       "    </tr>\n",
       "    <tr>\n",
       "      <td>1</td>\n",
       "      <td>1</td>\n",
       "    </tr>\n",
       "    <tr>\n",
       "      <td>2</td>\n",
       "      <td>1</td>\n",
       "    </tr>\n",
       "    <tr>\n",
       "      <td>3</td>\n",
       "      <td>1</td>\n",
       "    </tr>\n",
       "    <tr>\n",
       "      <td>4</td>\n",
       "      <td>1</td>\n",
       "    </tr>\n",
       "  </tbody>\n",
       "</table>\n",
       "</div>"
      ],
      "text/plain": [
       "   is_humor\n",
       "0         1\n",
       "1         1\n",
       "2         1\n",
       "3         1\n",
       "4         1"
      ]
     },
     "execution_count": 48,
     "metadata": {},
     "output_type": "execute_result"
    }
   ],
   "source": [
    "train_is_humor.to_frame().head()"
   ]
  },
  {
   "cell_type": "code",
   "execution_count": 50,
   "metadata": {},
   "outputs": [
    {
     "name": "stdout",
     "output_type": "stream",
     "text": [
      "1-gram Accuracy: 0.8580\n",
      "1-gram F1-Score: 0.8885\n",
      "\n",
      "2-gram Accuracy: 0.8605\n",
      "2-gram F1-Score: 0.8884\n",
      "\n",
      "3-gram Accuracy: 0.7795\n",
      "3-gram F1-Score: 0.8002\n",
      "\n",
      "4-gram Accuracy: 0.6085\n",
      "4-gram F1-Score: 0.5609\n",
      "\n",
      "5-gram Accuracy: 0.4980\n",
      "5-gram F1-Score: 0.3438\n",
      "\n"
     ]
    }
   ],
   "source": [
    "for n in range(1, 6):\n",
    "  # Pre-Processing\n",
    "  cv = CountVectorizer(ngram_range=(n,n), tokenizer=token.tokenize)\n",
    "  text_counts = cv.fit_transform(train_data['text'])\n",
    "  X_train, X_test, y_train, y_test = train_test_split(text_counts, train_is_humor.to_frame()['is_humor'], test_size=0.25, random_state=42)\n",
    "  \n",
    "  # Modeling\n",
    "  MNB = MultinomialNB()\n",
    "  MNB.fit(X_train, y_train)\n",
    "  predicted = MNB.predict(X_test)\n",
    "  accuracy_score = metrics.accuracy_score(y_test, predicted)\n",
    "  f1_score = metrics.f1_score(y_test, predicted)\n",
    "  print(f'{n}-gram Accuracy: {accuracy_score:.4f}')\n",
    "  print(f'{n}-gram F1-Score: {f1_score:.4f}')\n",
    "  print()"
   ]
  }
 ],
 "metadata": {
  "kernelspec": {
   "display_name": "Python 3",
   "language": "python",
   "name": "python3"
  },
  "language_info": {
   "codemirror_mode": {
    "name": "ipython",
    "version": 3
   },
   "file_extension": ".py",
   "mimetype": "text/x-python",
   "name": "python",
   "nbconvert_exporter": "python",
   "pygments_lexer": "ipython3",
   "version": "3.7.4"
  }
 },
 "nbformat": 4,
 "nbformat_minor": 2
}
